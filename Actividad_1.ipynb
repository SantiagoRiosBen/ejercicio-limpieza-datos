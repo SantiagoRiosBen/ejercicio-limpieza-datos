{
 "cells": [
  {
   "cell_type": "markdown",
   "id": "281fa1e2-fccf-4894-9c0c-3902dce9c6b6",
   "metadata": {},
   "source": [
    "<img src=\"https://upload.wikimedia.org/wikipedia/commons/4/42/UNIR_Horizontal_Logo.png\" alt=\"Logo de UNIR\" width=\"240\" align=\"right\">"
   ]
  },
  {
   "cell_type": "markdown",
   "id": "2cbc869c-e1f9-4d61-b8d7-6d059342153a",
   "metadata": {},
   "source": [
    "# **Procesamiento de datos CSV**\n",
    "\n",
    "_Santiago Ríos Benjumea_"
   ]
  },
  {
   "cell_type": "markdown",
   "id": "eeb720da-ed5f-46a0-914b-114ffac84044",
   "metadata": {},
   "source": [
    "## Primer Dataset Museos"
   ]
  },
  {
   "cell_type": "code",
   "execution_count": 1,
   "id": "4939e3bb-ff10-4b3e-892a-d81841fb45c1",
   "metadata": {},
   "outputs": [],
   "source": [
    "import pandas as pd"
   ]
  },
  {
   "cell_type": "code",
   "execution_count": 3,
   "id": "37505045-e632-4a75-984c-7954dac2990f",
   "metadata": {},
   "outputs": [],
   "source": [
    "# Cargar el primer dataset\n",
    "df_museos = pd.read_csv(\"201132-0-museos.csv\", sep=\";\",encoding=\"cp1252\")\n",
    "df_bibliotecas = pd.read_csv(\"201747-0-bibliobuses-bibliotecas.csv\", sep=\";\",encoding=\"cp1252\")\n",
    "df_alojamientos = pd.read_csv(\"alojamientos_turisticos.csv\", sep=\";\",encoding=\"cp1252\")\n",
    "df_data = pd.read_csv(\"data_act_01.csv\", sep=\";\",encoding=\"cp1252\")"
   ]
  },
  {
   "cell_type": "code",
   "execution_count": 4,
   "id": "511b1b9e-0c09-49c9-bf47-95c1c20ff69a",
   "metadata": {},
   "outputs": [
    {
     "data": {
      "text/html": [
       "<div>\n",
       "<style scoped>\n",
       "    .dataframe tbody tr th:only-of-type {\n",
       "        vertical-align: middle;\n",
       "    }\n",
       "\n",
       "    .dataframe tbody tr th {\n",
       "        vertical-align: top;\n",
       "    }\n",
       "\n",
       "    .dataframe thead th {\n",
       "        text-align: right;\n",
       "    }\n",
       "</style>\n",
       "<table border=\"1\" class=\"dataframe\">\n",
       "  <thead>\n",
       "    <tr style=\"text-align: right;\">\n",
       "      <th></th>\n",
       "      <th>PK</th>\n",
       "      <th>NOMBRE</th>\n",
       "      <th>DESCRIPCION-ENTIDAD</th>\n",
       "      <th>HORARIO</th>\n",
       "      <th>EQUIPAMIENTO</th>\n",
       "      <th>TRANSPORTE</th>\n",
       "      <th>DESCRIPCION</th>\n",
       "      <th>ACCESIBILIDAD</th>\n",
       "      <th>CONTENT-URL</th>\n",
       "      <th>NOMBRE-VIA</th>\n",
       "      <th>...</th>\n",
       "      <th>COD-DISTRITO</th>\n",
       "      <th>DISTRITO</th>\n",
       "      <th>COORDENADA-X</th>\n",
       "      <th>COORDENADA-Y</th>\n",
       "      <th>LATITUD</th>\n",
       "      <th>LONGITUD</th>\n",
       "      <th>TELEFONO</th>\n",
       "      <th>FAX</th>\n",
       "      <th>EMAIL</th>\n",
       "      <th>TIPO</th>\n",
       "    </tr>\n",
       "  </thead>\n",
       "  <tbody>\n",
       "    <tr>\n",
       "      <th>0</th>\n",
       "      <td>6017808</td>\n",
       "      <td>Casa Museo Fuente del Rey</td>\n",
       "      <td>Fundación AMYC - Fran Daurel  Este museo,  sit...</td>\n",
       "      <td>De lunes a viernes de 10:00 a 19:00 horas. Vis...</td>\n",
       "      <td>NaN</td>\n",
       "      <td>Consulta los siguientes enlaces:</td>\n",
       "      <td>NaN</td>\n",
       "      <td>3</td>\n",
       "      <td>http://www.madrid.es/sites/v/index.jsp?vgnextc...</td>\n",
       "      <td>FUENTE DEL REY</td>\n",
       "      <td>...</td>\n",
       "      <td>9</td>\n",
       "      <td>MONCLOA-ARAVACA</td>\n",
       "      <td>434663</td>\n",
       "      <td>4478596</td>\n",
       "      <td>40.455469</td>\n",
       "      <td>-3.770572</td>\n",
       "      <td>913 579 116</td>\n",
       "      <td>NaN</td>\n",
       "      <td>info@fundaciofrandaurel.com</td>\n",
       "      <td>/contenido/entidadesYorganismos/FundacionesCul...</td>\n",
       "    </tr>\n",
       "    <tr>\n",
       "      <th>1</th>\n",
       "      <td>4847190</td>\n",
       "      <td>Casa Museo Lope de Vega</td>\n",
       "      <td>'Mi casilla, mi quietud, mi g&amp;amp;uuml;ertecil...</td>\n",
       "      <td>De martes a domingo, de 10 a 18 horas.  Cerrad...</td>\n",
       "      <td>NaN</td>\n",
       "      <td>Metro: Antón Martín (línea 1), Sevilla (línea ...</td>\n",
       "      <td>NaN</td>\n",
       "      <td>0,4</td>\n",
       "      <td>http://www.madrid.es/sites/v/index.jsp?vgnextc...</td>\n",
       "      <td>CERVANTES</td>\n",
       "      <td>...</td>\n",
       "      <td>1</td>\n",
       "      <td>CENTRO</td>\n",
       "      <td>440825</td>\n",
       "      <td>4473983</td>\n",
       "      <td>40.414369</td>\n",
       "      <td>-3.697467</td>\n",
       "      <td>914 299 216</td>\n",
       "      <td>NaN</td>\n",
       "      <td>casamuseolopedevega@madrid.org</td>\n",
       "      <td>/contenido/entidadesYorganismos/Museos</td>\n",
       "    </tr>\n",
       "    <tr>\n",
       "      <th>2</th>\n",
       "      <td>4949641</td>\n",
       "      <td>Casita Museo de Ratón Pérez</td>\n",
       "      <td>La Casita-Museo constituye un espacio singular...</td>\n",
       "      <td>Visitas: horarios y reservas.</td>\n",
       "      <td>NaN</td>\n",
       "      <td>Metro: Sol (líneas: 1, 2 y 3), Ópera (líneas 2...</td>\n",
       "      <td>Se aconseja acudan con la entrada adquirida an...</td>\n",
       "      <td>0</td>\n",
       "      <td>http://www.madrid.es/sites/v/index.jsp?vgnextc...</td>\n",
       "      <td>ARENAL</td>\n",
       "      <td>...</td>\n",
       "      <td>1</td>\n",
       "      <td>CENTRO</td>\n",
       "      <td>440144</td>\n",
       "      <td>4474287</td>\n",
       "      <td>40.417060</td>\n",
       "      <td>-3.705520</td>\n",
       "      <td>915 226 968</td>\n",
       "      <td>NaN</td>\n",
       "      <td>info@casamuseoratonperez.es</td>\n",
       "      <td>/contenido/entidadesYorganismos/Museos</td>\n",
       "    </tr>\n",
       "    <tr>\n",
       "      <th>3</th>\n",
       "      <td>5682031</td>\n",
       "      <td>Castillo de la Alameda</td>\n",
       "      <td>El Castillo de la Alameda o de Barajas es uno ...</td>\n",
       "      <td>Abierto solo en fin de semana (sábado y doming...</td>\n",
       "      <td>Zona wifi.</td>\n",
       "      <td>Metro: Alameda de Osuna y El Capricho (línea 5).</td>\n",
       "      <td>Accesibilidad   Rampas de acceso (las rampas d...</td>\n",
       "      <td>1,6</td>\n",
       "      <td>http://www.madrid.es/sites/v/index.jsp?vgnextc...</td>\n",
       "      <td>ANTONIO SANCHA</td>\n",
       "      <td>...</td>\n",
       "      <td>21</td>\n",
       "      <td>BARAJAS</td>\n",
       "      <td>449698</td>\n",
       "      <td>4478802</td>\n",
       "      <td>40.458365</td>\n",
       "      <td>-3.593276</td>\n",
       "      <td>913 667 415</td>\n",
       "      <td>NaN</td>\n",
       "      <td>castilloalameda@madrid.es</td>\n",
       "      <td>/contenido/entidadesYorganismos/MonumentosEdif...</td>\n",
       "    </tr>\n",
       "    <tr>\n",
       "      <th>4</th>\n",
       "      <td>2064</td>\n",
       "      <td>Casón del Buen Retiro</td>\n",
       "      <td>El Centro de Estudios del Prado está ubicado e...</td>\n",
       "      <td>NaN</td>\n",
       "      <td>NaN</td>\n",
       "      <td>Metro: Estación del Arte (línea 1), Banco de E...</td>\n",
       "      <td>Descripción monumental  El Casón o Salón de Ba...</td>\n",
       "      <td>1</td>\n",
       "      <td>http://www.madrid.es/sites/v/index.jsp?vgnextc...</td>\n",
       "      <td>ALFONSO XII</td>\n",
       "      <td>...</td>\n",
       "      <td>3</td>\n",
       "      <td>RETIRO</td>\n",
       "      <td>441525</td>\n",
       "      <td>4474078</td>\n",
       "      <td>40.415275</td>\n",
       "      <td>-3.689222</td>\n",
       "      <td>913 302 821</td>\n",
       "      <td>NaN</td>\n",
       "      <td>centro.estudios@museodelprado.es</td>\n",
       "      <td>/contenido/entidadesYorganismos/MonumentosEdif...</td>\n",
       "    </tr>\n",
       "  </tbody>\n",
       "</table>\n",
       "<p>5 rows × 32 columns</p>\n",
       "</div>"
      ],
      "text/plain": [
       "        PK                       NOMBRE  \\\n",
       "0  6017808    Casa Museo Fuente del Rey   \n",
       "1  4847190      Casa Museo Lope de Vega   \n",
       "2  4949641  Casita Museo de Ratón Pérez   \n",
       "3  5682031       Castillo de la Alameda   \n",
       "4     2064        Casón del Buen Retiro   \n",
       "\n",
       "                                 DESCRIPCION-ENTIDAD  \\\n",
       "0  Fundación AMYC - Fran Daurel  Este museo,  sit...   \n",
       "1  'Mi casilla, mi quietud, mi g&amp;uuml;ertecil...   \n",
       "2  La Casita-Museo constituye un espacio singular...   \n",
       "3  El Castillo de la Alameda o de Barajas es uno ...   \n",
       "4  El Centro de Estudios del Prado está ubicado e...   \n",
       "\n",
       "                                             HORARIO EQUIPAMIENTO  \\\n",
       "0  De lunes a viernes de 10:00 a 19:00 horas. Vis...          NaN   \n",
       "1  De martes a domingo, de 10 a 18 horas.  Cerrad...          NaN   \n",
       "2                      Visitas: horarios y reservas.          NaN   \n",
       "3  Abierto solo en fin de semana (sábado y doming...   Zona wifi.   \n",
       "4                                                NaN          NaN   \n",
       "\n",
       "                                          TRANSPORTE  \\\n",
       "0                   Consulta los siguientes enlaces:   \n",
       "1  Metro: Antón Martín (línea 1), Sevilla (línea ...   \n",
       "2  Metro: Sol (líneas: 1, 2 y 3), Ópera (líneas 2...   \n",
       "3   Metro: Alameda de Osuna y El Capricho (línea 5).   \n",
       "4  Metro: Estación del Arte (línea 1), Banco de E...   \n",
       "\n",
       "                                         DESCRIPCION ACCESIBILIDAD  \\\n",
       "0                                                NaN             3   \n",
       "1                                                NaN           0,4   \n",
       "2  Se aconseja acudan con la entrada adquirida an...             0   \n",
       "3  Accesibilidad   Rampas de acceso (las rampas d...           1,6   \n",
       "4  Descripción monumental  El Casón o Salón de Ba...             1   \n",
       "\n",
       "                                         CONTENT-URL      NOMBRE-VIA  ...  \\\n",
       "0  http://www.madrid.es/sites/v/index.jsp?vgnextc...  FUENTE DEL REY  ...   \n",
       "1  http://www.madrid.es/sites/v/index.jsp?vgnextc...       CERVANTES  ...   \n",
       "2  http://www.madrid.es/sites/v/index.jsp?vgnextc...          ARENAL  ...   \n",
       "3  http://www.madrid.es/sites/v/index.jsp?vgnextc...  ANTONIO SANCHA  ...   \n",
       "4  http://www.madrid.es/sites/v/index.jsp?vgnextc...     ALFONSO XII  ...   \n",
       "\n",
       "  COD-DISTRITO         DISTRITO  COORDENADA-X COORDENADA-Y    LATITUD  \\\n",
       "0            9  MONCLOA-ARAVACA        434663      4478596  40.455469   \n",
       "1            1           CENTRO        440825      4473983  40.414369   \n",
       "2            1           CENTRO        440144      4474287  40.417060   \n",
       "3           21          BARAJAS        449698      4478802  40.458365   \n",
       "4            3           RETIRO        441525      4474078  40.415275   \n",
       "\n",
       "   LONGITUD     TELEFONO  FAX                             EMAIL  \\\n",
       "0 -3.770572  913 579 116  NaN       info@fundaciofrandaurel.com   \n",
       "1 -3.697467  914 299 216  NaN    casamuseolopedevega@madrid.org   \n",
       "2 -3.705520  915 226 968  NaN       info@casamuseoratonperez.es   \n",
       "3 -3.593276  913 667 415  NaN         castilloalameda@madrid.es   \n",
       "4 -3.689222  913 302 821  NaN  centro.estudios@museodelprado.es   \n",
       "\n",
       "                                                TIPO  \n",
       "0  /contenido/entidadesYorganismos/FundacionesCul...  \n",
       "1             /contenido/entidadesYorganismos/Museos  \n",
       "2             /contenido/entidadesYorganismos/Museos  \n",
       "3  /contenido/entidadesYorganismos/MonumentosEdif...  \n",
       "4  /contenido/entidadesYorganismos/MonumentosEdif...  \n",
       "\n",
       "[5 rows x 32 columns]"
      ]
     },
     "execution_count": 4,
     "metadata": {},
     "output_type": "execute_result"
    }
   ],
   "source": [
    "df_museos.head()"
   ]
  },
  {
   "cell_type": "code",
   "execution_count": 5,
   "id": "1526ac64-6356-44b1-810c-20b39688a313",
   "metadata": {},
   "outputs": [
    {
     "data": {
      "text/plain": [
       "(69, 32)"
      ]
     },
     "execution_count": 5,
     "metadata": {},
     "output_type": "execute_result"
    }
   ],
   "source": [
    "df_museos.shape"
   ]
  },
  {
   "cell_type": "code",
   "execution_count": 6,
   "id": "6c6a8681-9c55-4511-8914-807027263759",
   "metadata": {},
   "outputs": [
    {
     "data": {
      "text/plain": [
       "ESCALERAS              69\n",
       "PUERTA                 69\n",
       "PLANTA                 68\n",
       "ORIENTACION            66\n",
       "FAX                    61\n",
       "EQUIPAMIENTO           53\n",
       "DESCRIPCION            52\n",
       "DESCRIPCION-ENTIDAD    20\n",
       "EMAIL                  16\n",
       "TELEFONO               11\n",
       "HORARIO                 4\n",
       "COD-DISTRITO            0\n",
       "DISTRITO                0\n",
       "LONGITUD                0\n",
       "COORDENADA-X            0\n",
       "COORDENADA-Y            0\n",
       "LATITUD                 0\n",
       "COD-BARRIO              0\n",
       "BARRIO                  0\n",
       "PK                      0\n",
       "CODIGO-POSTAL           0\n",
       "PROVINCIA               0\n",
       "LOCALIDAD               0\n",
       "NOMBRE                  0\n",
       "NUM                     0\n",
       "TIPO-NUM                0\n",
       "CLASE-VIAL              0\n",
       "NOMBRE-VIA              0\n",
       "CONTENT-URL             0\n",
       "ACCESIBILIDAD           0\n",
       "TRANSPORTE              0\n",
       "TIPO                    0\n",
       "dtype: int64"
      ]
     },
     "execution_count": 6,
     "metadata": {},
     "output_type": "execute_result"
    }
   ],
   "source": [
    "# Valores nulos por columna\n",
    "df_museos.isnull().sum().sort_values(ascending=False)"
   ]
  },
  {
   "cell_type": "code",
   "execution_count": 7,
   "id": "f5571bd7-9e44-4090-a3b2-9419033a8268",
   "metadata": {},
   "outputs": [
    {
     "data": {
      "text/plain": [
       "ESCALERAS              100.000000\n",
       "PUERTA                 100.000000\n",
       "PLANTA                  98.550725\n",
       "ORIENTACION             95.652174\n",
       "FAX                     88.405797\n",
       "EQUIPAMIENTO            76.811594\n",
       "DESCRIPCION             75.362319\n",
       "DESCRIPCION-ENTIDAD     28.985507\n",
       "EMAIL                   23.188406\n",
       "TELEFONO                15.942029\n",
       "HORARIO                  5.797101\n",
       "COD-DISTRITO             0.000000\n",
       "DISTRITO                 0.000000\n",
       "LONGITUD                 0.000000\n",
       "COORDENADA-X             0.000000\n",
       "COORDENADA-Y             0.000000\n",
       "LATITUD                  0.000000\n",
       "COD-BARRIO               0.000000\n",
       "BARRIO                   0.000000\n",
       "PK                       0.000000\n",
       "CODIGO-POSTAL            0.000000\n",
       "PROVINCIA                0.000000\n",
       "LOCALIDAD                0.000000\n",
       "NOMBRE                   0.000000\n",
       "NUM                      0.000000\n",
       "TIPO-NUM                 0.000000\n",
       "CLASE-VIAL               0.000000\n",
       "NOMBRE-VIA               0.000000\n",
       "CONTENT-URL              0.000000\n",
       "ACCESIBILIDAD            0.000000\n",
       "TRANSPORTE               0.000000\n",
       "TIPO                     0.000000\n",
       "dtype: float64"
      ]
     },
     "execution_count": 7,
     "metadata": {},
     "output_type": "execute_result"
    }
   ],
   "source": [
    "# Porcentaje de valores faltantes\n",
    "(df_museos.isnull().mean() * 100).sort_values(ascending=False)"
   ]
  },
  {
   "cell_type": "code",
   "execution_count": 8,
   "id": "13874c22-375e-4523-8670-c2f5b48d98bf",
   "metadata": {},
   "outputs": [],
   "source": [
    "# Limpieza de columnas con mayor parte de datos nulos\n",
    "df_museos.drop(columns=[\"ESCALERAS\", \"PUERTA\", \"PLANTA\", \"ORIENTACION\", \"FAX\", \"EQUIPAMIENTO\", \"DESCRIPCION\"], inplace=True)"
   ]
  },
  {
   "cell_type": "code",
   "execution_count": 9,
   "id": "0612c15f-0757-40fc-8cd8-e9768019762a",
   "metadata": {},
   "outputs": [],
   "source": [
    "# Llenar datos faltantes en las otras columnas\n",
    "cols_a_llenar = [\"DESCRIPCION-ENTIDAD\", \"HORARIO\", \"EMAIL\", \"TELEFONO\"]\n",
    "for col in cols_a_llenar:\n",
    "    df_museos[col] = df_museos[col].fillna(\"Desconocido\")"
   ]
  },
  {
   "cell_type": "code",
   "execution_count": 10,
   "id": "0b510601-4735-4df7-9037-db54019961c8",
   "metadata": {},
   "outputs": [
    {
     "data": {
      "text/plain": [
       "PK                       int64\n",
       "NOMBRE                  object\n",
       "DESCRIPCION-ENTIDAD     object\n",
       "HORARIO                 object\n",
       "TRANSPORTE              object\n",
       "ACCESIBILIDAD           object\n",
       "CONTENT-URL             object\n",
       "NOMBRE-VIA              object\n",
       "CLASE-VIAL              object\n",
       "TIPO-NUM                object\n",
       "NUM                    float64\n",
       "LOCALIDAD               object\n",
       "PROVINCIA               object\n",
       "CODIGO-POSTAL            int64\n",
       "COD-BARRIO               int64\n",
       "BARRIO                  object\n",
       "COD-DISTRITO             int64\n",
       "DISTRITO                object\n",
       "COORDENADA-X             int64\n",
       "COORDENADA-Y             int64\n",
       "LATITUD                float64\n",
       "LONGITUD               float64\n",
       "TELEFONO                object\n",
       "EMAIL                   object\n",
       "TIPO                    object\n",
       "dtype: object"
      ]
     },
     "execution_count": 10,
     "metadata": {},
     "output_type": "execute_result"
    }
   ],
   "source": [
    "# Revisión de tipo de datos\n",
    "df_museos.dtypes"
   ]
  },
  {
   "cell_type": "code",
   "execution_count": 11,
   "id": "5e6e999b-d5d6-44a0-8a09-eac21be3abaf",
   "metadata": {},
   "outputs": [],
   "source": [
    "df_museos[\"ACCESIBILIDAD\"] = df_museos[\"ACCESIBILIDAD\"].str.replace(\",\", \".\", regex=False)"
   ]
  },
  {
   "cell_type": "code",
   "execution_count": 13,
   "id": "7c973d86-a877-4628-8995-a6b33cdfc435",
   "metadata": {},
   "outputs": [],
   "source": [
    "df_museos[\"ACCESIBILIDAD\"] = pd.to_numeric(df_museos[\"ACCESIBILIDAD\"], errors=\"coerce\")"
   ]
  },
  {
   "cell_type": "code",
   "execution_count": 14,
   "id": "9e173db4-0258-4df8-ba08-3ad1e6b2f5cb",
   "metadata": {},
   "outputs": [
    {
     "data": {
      "text/plain": [
       "dtype('float64')"
      ]
     },
     "execution_count": 14,
     "metadata": {},
     "output_type": "execute_result"
    }
   ],
   "source": [
    "df_museos[\"ACCESIBILIDAD\"].dtypes"
   ]
  },
  {
   "cell_type": "code",
   "execution_count": 15,
   "id": "655ba6a8-2e3b-4aa6-9b3f-53ca7687bcd9",
   "metadata": {},
   "outputs": [
    {
     "data": {
      "text/plain": [
       "0"
      ]
     },
     "execution_count": 15,
     "metadata": {},
     "output_type": "execute_result"
    }
   ],
   "source": [
    "# Búsqueda de duplicados\n",
    "\n",
    "df_museos.duplicated().sum()"
   ]
  },
  {
   "cell_type": "code",
   "execution_count": 16,
   "id": "cf951104-872e-47f7-bdee-5a67a0fc344a",
   "metadata": {},
   "outputs": [
    {
     "data": {
      "text/plain": [
       "array(['MONCLOA-ARAVACA', 'CENTRO', 'BARAJAS', 'RETIRO', 'CHAMBERI',\n",
       "       'CIUDAD LINEAL', 'SALAMANCA', 'CHAMARTIN', 'TETUAN', 'LATINA',\n",
       "       'PUENTE DE VALLECAS', 'FUENCARRAL-EL PARDO', 'ARGANZUELA',\n",
       "       'CARABANCHEL'], dtype=object)"
      ]
     },
     "execution_count": 16,
     "metadata": {},
     "output_type": "execute_result"
    }
   ],
   "source": [
    "df_museos[\"DISTRITO\"].unique()"
   ]
  },
  {
   "cell_type": "code",
   "execution_count": 17,
   "id": "ba3347fc-cbde-4e6e-b758-ef2650fa8c7a",
   "metadata": {},
   "outputs": [
    {
     "data": {
      "text/plain": [
       "array(['moncloa-aravaca', 'centro', 'barajas', 'retiro', 'chamberi',\n",
       "       'ciudad lineal', 'salamanca', 'chamartin', 'tetuan', 'latina',\n",
       "       'puente de vallecas', 'fuencarral-el pardo', 'arganzuela',\n",
       "       'carabanchel'], dtype=object)"
      ]
     },
     "execution_count": 17,
     "metadata": {},
     "output_type": "execute_result"
    }
   ],
   "source": [
    "df_museos[\"DISTRITO_NORM\"] = df_museos[\"DISTRITO\"].str.lower().str.strip()\n",
    "df_museos[\"DISTRITO_NORM\"].unique()"
   ]
  },
  {
   "cell_type": "code",
   "execution_count": 18,
   "id": "5f2b69e2-2c5e-4147-8931-86d2c2eed6f7",
   "metadata": {},
   "outputs": [
    {
     "data": {
      "text/plain": [
       "DISTRITO_NORM\n",
       "centro                 28\n",
       "moncloa-aravaca         8\n",
       "chamberi                7\n",
       "retiro                  7\n",
       "salamanca               6\n",
       "fuencarral-el pardo     3\n",
       "arganzuela              2\n",
       "chamartin               2\n",
       "barajas                 1\n",
       "carabanchel             1\n",
       "ciudad lineal           1\n",
       "latina                  1\n",
       "puente de vallecas      1\n",
       "tetuan                  1\n",
       "dtype: int64"
      ]
     },
     "execution_count": 18,
     "metadata": {},
     "output_type": "execute_result"
    }
   ],
   "source": [
    "df_museos.groupby(\"DISTRITO_NORM\").size().sort_values(ascending=False)"
   ]
  },
  {
   "cell_type": "code",
   "execution_count": 19,
   "id": "24d7f5c3-8e12-491b-9bfb-4f9ebbe23051",
   "metadata": {},
   "outputs": [
    {
     "data": {
      "text/plain": [
       "array(['ARAVACA', 'CORTES', 'SOL', 'ALAMEDA DE OSUNA', 'LOS JERONIMOS',\n",
       "       'EMBAJADORES', 'CASA DE CAMPO', 'UNIVERSIDAD', 'ALMAGRO',\n",
       "       'PALACIO', 'SAN JUAN BAUTISTA', 'RECOLETOS', 'GOYA', 'ARGUELLES',\n",
       "       'CASTILLA', 'RIOS ROSAS', 'CASTELLANA', 'EL VISO', 'GUINDALERA',\n",
       "       'CUATRO CAMINOS', 'CUATRO VIENTOS', 'CIUDAD UNIVERSITARIA',\n",
       "       'NUMANCIA', 'JUSTICIA', 'TRAFALGAR', 'EL GOLOSO', 'LA PAZ',\n",
       "       'VALLEHERMOSO', 'DELICIAS', 'EL PARDO', 'PACIFICO', 'LEGAZPI',\n",
       "       'VISTA ALEGRE'], dtype=object)"
      ]
     },
     "execution_count": 19,
     "metadata": {},
     "output_type": "execute_result"
    }
   ],
   "source": [
    "df_museos[\"BARRIO\"].unique()"
   ]
  },
  {
   "cell_type": "code",
   "execution_count": 20,
   "id": "430b5f28-cc1c-4b93-bc2f-f9598583ca62",
   "metadata": {},
   "outputs": [
    {
     "data": {
      "text/plain": [
       "array(['aravaca', 'cortes', 'sol', 'alameda de osuna', 'los jeronimos',\n",
       "       'embajadores', 'casa de campo', 'universidad', 'almagro',\n",
       "       'palacio', 'san juan bautista', 'recoletos', 'goya', 'arguelles',\n",
       "       'castilla', 'rios rosas', 'castellana', 'el viso', 'guindalera',\n",
       "       'cuatro caminos', 'cuatro vientos', 'ciudad universitaria',\n",
       "       'numancia', 'justicia', 'trafalgar', 'el goloso', 'la paz',\n",
       "       'vallehermoso', 'delicias', 'el pardo', 'pacifico', 'legazpi',\n",
       "       'vista alegre'], dtype=object)"
      ]
     },
     "execution_count": 20,
     "metadata": {},
     "output_type": "execute_result"
    }
   ],
   "source": [
    "df_museos[\"BARRIO_NORM\"] = df_museos[\"BARRIO\"].str.lower().str.strip()\n",
    "df_museos[\"BARRIO_NORM\"].unique()"
   ]
  },
  {
   "cell_type": "code",
   "execution_count": 21,
   "id": "b4b784d8-a526-4180-aa4b-b7193a0a9d47",
   "metadata": {},
   "outputs": [
    {
     "data": {
      "text/plain": [
       "BARRIO_NORM\n",
       "palacio                 7\n",
       "los jeronimos           5\n",
       "sol                     5\n",
       "embajadores             5\n",
       "justicia                4\n",
       "ciudad universitaria    4\n",
       "cortes                  4\n",
       "universidad             3\n",
       "castellana              3\n",
       "rios rosas              3\n",
       "pacifico                2\n",
       "casa de campo           2\n",
       "almagro                 2\n",
       "numancia                1\n",
       "alameda de osuna        1\n",
       "recoletos               1\n",
       "legazpi                 1\n",
       "trafalgar               1\n",
       "vallehermoso            1\n",
       "san juan bautista       1\n",
       "goya                    1\n",
       "la paz                  1\n",
       "guindalera              1\n",
       "el viso                 1\n",
       "el pardo                1\n",
       "el goloso               1\n",
       "delicias                1\n",
       "cuatro vientos          1\n",
       "cuatro caminos          1\n",
       "castilla                1\n",
       "arguelles               1\n",
       "aravaca                 1\n",
       "vista alegre            1\n",
       "dtype: int64"
      ]
     },
     "execution_count": 21,
     "metadata": {},
     "output_type": "execute_result"
    }
   ],
   "source": [
    "df_museos.groupby(\"BARRIO_NORM\").size().sort_values(ascending=False)"
   ]
  },
  {
   "cell_type": "code",
   "execution_count": 22,
   "id": "a46e6d85-bcde-4045-9917-d7c177ec23e2",
   "metadata": {},
   "outputs": [
    {
     "data": {
      "text/plain": [
       "array(['CALLE', 'GLORIETA', 'PLAZA', 'PASEO', 'AUTOVIA', 'AVENIDA'],\n",
       "      dtype=object)"
      ]
     },
     "execution_count": 22,
     "metadata": {},
     "output_type": "execute_result"
    }
   ],
   "source": [
    "df_museos[\"CLASE-VIAL\"].unique()"
   ]
  },
  {
   "cell_type": "code",
   "execution_count": 23,
   "id": "b821211c-3808-487d-8f8a-b747e0267a59",
   "metadata": {},
   "outputs": [
    {
     "data": {
      "text/html": [
       "<div>\n",
       "<style scoped>\n",
       "    .dataframe tbody tr th:only-of-type {\n",
       "        vertical-align: middle;\n",
       "    }\n",
       "\n",
       "    .dataframe tbody tr th {\n",
       "        vertical-align: top;\n",
       "    }\n",
       "\n",
       "    .dataframe thead th {\n",
       "        text-align: right;\n",
       "    }\n",
       "</style>\n",
       "<table border=\"1\" class=\"dataframe\">\n",
       "  <thead>\n",
       "    <tr style=\"text-align: right;\">\n",
       "      <th></th>\n",
       "      <th>ACCESIBILIDAD</th>\n",
       "      <th>NUM</th>\n",
       "      <th>LATITUD</th>\n",
       "      <th>LONGITUD</th>\n",
       "    </tr>\n",
       "  </thead>\n",
       "  <tbody>\n",
       "    <tr>\n",
       "      <th>count</th>\n",
       "      <td>65.000000</td>\n",
       "      <td>69.000000</td>\n",
       "      <td>69.000000</td>\n",
       "      <td>69.000000</td>\n",
       "    </tr>\n",
       "    <tr>\n",
       "      <th>mean</th>\n",
       "      <td>1.860000</td>\n",
       "      <td>24.271014</td>\n",
       "      <td>40.427700</td>\n",
       "      <td>-3.701285</td>\n",
       "    </tr>\n",
       "    <tr>\n",
       "      <th>std</th>\n",
       "      <td>0.935882</td>\n",
       "      <td>40.048100</td>\n",
       "      <td>0.025914</td>\n",
       "      <td>0.027250</td>\n",
       "    </tr>\n",
       "    <tr>\n",
       "      <th>min</th>\n",
       "      <td>0.000000</td>\n",
       "      <td>0.000000</td>\n",
       "      <td>40.373620</td>\n",
       "      <td>-3.808430</td>\n",
       "    </tr>\n",
       "    <tr>\n",
       "      <th>25%</th>\n",
       "      <td>1.000000</td>\n",
       "      <td>3.000000</td>\n",
       "      <td>40.415275</td>\n",
       "      <td>-3.710816</td>\n",
       "    </tr>\n",
       "    <tr>\n",
       "      <th>50%</th>\n",
       "      <td>1.600000</td>\n",
       "      <td>9.000000</td>\n",
       "      <td>40.422600</td>\n",
       "      <td>-3.700020</td>\n",
       "    </tr>\n",
       "    <tr>\n",
       "      <th>75%</th>\n",
       "      <td>3.000000</td>\n",
       "      <td>28.000000</td>\n",
       "      <td>40.436756</td>\n",
       "      <td>-3.690212</td>\n",
       "    </tr>\n",
       "    <tr>\n",
       "      <th>max</th>\n",
       "      <td>3.000000</td>\n",
       "      <td>237.000000</td>\n",
       "      <td>40.545379</td>\n",
       "      <td>-3.593276</td>\n",
       "    </tr>\n",
       "  </tbody>\n",
       "</table>\n",
       "</div>"
      ],
      "text/plain": [
       "       ACCESIBILIDAD         NUM    LATITUD   LONGITUD\n",
       "count      65.000000   69.000000  69.000000  69.000000\n",
       "mean        1.860000   24.271014  40.427700  -3.701285\n",
       "std         0.935882   40.048100   0.025914   0.027250\n",
       "min         0.000000    0.000000  40.373620  -3.808430\n",
       "25%         1.000000    3.000000  40.415275  -3.710816\n",
       "50%         1.600000    9.000000  40.422600  -3.700020\n",
       "75%         3.000000   28.000000  40.436756  -3.690212\n",
       "max         3.000000  237.000000  40.545379  -3.593276"
      ]
     },
     "execution_count": 23,
     "metadata": {},
     "output_type": "execute_result"
    }
   ],
   "source": [
    "# Ver estadísticas de variables con números\n",
    "df_museos[[\"ACCESIBILIDAD\", \"NUM\", \"LATITUD\", \"LONGITUD\"]].describe()"
   ]
  },
  {
   "cell_type": "code",
   "execution_count": 24,
   "id": "e08319de-2685-48a3-bec6-8b96e34f9c14",
   "metadata": {},
   "outputs": [
    {
     "data": {
      "text/html": [
       "<div>\n",
       "<style scoped>\n",
       "    .dataframe tbody tr th:only-of-type {\n",
       "        vertical-align: middle;\n",
       "    }\n",
       "\n",
       "    .dataframe tbody tr th {\n",
       "        vertical-align: top;\n",
       "    }\n",
       "\n",
       "    .dataframe thead th {\n",
       "        text-align: right;\n",
       "    }\n",
       "</style>\n",
       "<table border=\"1\" class=\"dataframe\">\n",
       "  <thead>\n",
       "    <tr style=\"text-align: right;\">\n",
       "      <th></th>\n",
       "      <th>NOMBRE</th>\n",
       "      <th>CLASE-VIAL</th>\n",
       "      <th>NOMBRE-VIA</th>\n",
       "      <th>NUM</th>\n",
       "    </tr>\n",
       "  </thead>\n",
       "  <tbody>\n",
       "    <tr>\n",
       "      <th>9</th>\n",
       "      <td>Galería de la Colecciones Reales</td>\n",
       "      <td>CALLE</td>\n",
       "      <td>BAILEN</td>\n",
       "      <td>0.0</td>\n",
       "    </tr>\n",
       "    <tr>\n",
       "      <th>48</th>\n",
       "      <td>Museo de la Farmacia Hispana</td>\n",
       "      <td>PLAZA</td>\n",
       "      <td>RAMON Y CAJAL</td>\n",
       "      <td>0.0</td>\n",
       "    </tr>\n",
       "    <tr>\n",
       "      <th>52</th>\n",
       "      <td>Museo del Prado</td>\n",
       "      <td>PASEO</td>\n",
       "      <td>PRADO</td>\n",
       "      <td>0.0</td>\n",
       "    </tr>\n",
       "    <tr>\n",
       "      <th>58</th>\n",
       "      <td>Palacio Real de Madrid</td>\n",
       "      <td>PLAZA</td>\n",
       "      <td>ORIENTE</td>\n",
       "      <td>0.0</td>\n",
       "    </tr>\n",
       "  </tbody>\n",
       "</table>\n",
       "</div>"
      ],
      "text/plain": [
       "                              NOMBRE CLASE-VIAL     NOMBRE-VIA  NUM\n",
       "9   Galería de la Colecciones Reales      CALLE         BAILEN  0.0\n",
       "48      Museo de la Farmacia Hispana      PLAZA  RAMON Y CAJAL  0.0\n",
       "52                   Museo del Prado      PASEO          PRADO  0.0\n",
       "58            Palacio Real de Madrid      PLAZA        ORIENTE  0.0"
      ]
     },
     "execution_count": 24,
     "metadata": {},
     "output_type": "execute_result"
    }
   ],
   "source": [
    "df_museos[df_museos[\"NUM\"] == 0][[\"NOMBRE\", \"CLASE-VIAL\", \"NOMBRE-VIA\", \"NUM\"]]"
   ]
  },
  {
   "cell_type": "code",
   "execution_count": 25,
   "id": "efd18d56-dab9-4aa1-aa1c-65afe1977b91",
   "metadata": {},
   "outputs": [],
   "source": [
    "# Normalizar los textos\n",
    "\n",
    "cols_texto = [\"NOMBRE\", \"DISTRITO\", \"BARRIO\", \"CLASE-VIAL\", \"TIPO\", \"LOCALIDAD\"]\n",
    "\n",
    "for col in cols_texto:\n",
    "    df_museos[col] = df_museos[col].str.strip().str.lower()\n"
   ]
  },
  {
   "cell_type": "code",
   "execution_count": 26,
   "id": "6b6c9eb1-667b-488f-bc45-25cc42814c6e",
   "metadata": {},
   "outputs": [
    {
     "data": {
      "text/plain": [
       "array(['madrid'], dtype=object)"
      ]
     },
     "execution_count": 26,
     "metadata": {},
     "output_type": "execute_result"
    }
   ],
   "source": [
    "df_museos[\"LOCALIDAD\"].unique()"
   ]
  },
  {
   "cell_type": "code",
   "execution_count": 27,
   "id": "8e1fc540-40d6-4b7e-ad30-63fc23814ed0",
   "metadata": {},
   "outputs": [
    {
     "data": {
      "text/html": [
       "<div>\n",
       "<style scoped>\n",
       "    .dataframe tbody tr th:only-of-type {\n",
       "        vertical-align: middle;\n",
       "    }\n",
       "\n",
       "    .dataframe tbody tr th {\n",
       "        vertical-align: top;\n",
       "    }\n",
       "\n",
       "    .dataframe thead th {\n",
       "        text-align: right;\n",
       "    }\n",
       "</style>\n",
       "<table border=\"1\" class=\"dataframe\">\n",
       "  <thead>\n",
       "    <tr style=\"text-align: right;\">\n",
       "      <th></th>\n",
       "      <th>PK</th>\n",
       "      <th>NOMBRE</th>\n",
       "      <th>DESCRIPCION-ENTIDAD</th>\n",
       "      <th>HORARIO</th>\n",
       "      <th>TRANSPORTE</th>\n",
       "      <th>ACCESIBILIDAD</th>\n",
       "      <th>CONTENT-URL</th>\n",
       "      <th>NOMBRE-VIA</th>\n",
       "      <th>CLASE-VIAL</th>\n",
       "      <th>TIPO-NUM</th>\n",
       "      <th>...</th>\n",
       "      <th>DISTRITO</th>\n",
       "      <th>COORDENADA-X</th>\n",
       "      <th>COORDENADA-Y</th>\n",
       "      <th>LATITUD</th>\n",
       "      <th>LONGITUD</th>\n",
       "      <th>TELEFONO</th>\n",
       "      <th>EMAIL</th>\n",
       "      <th>TIPO</th>\n",
       "      <th>DISTRITO_NORM</th>\n",
       "      <th>BARRIO_NORM</th>\n",
       "    </tr>\n",
       "  </thead>\n",
       "  <tbody>\n",
       "    <tr>\n",
       "      <th>0</th>\n",
       "      <td>6017808</td>\n",
       "      <td>casa museo fuente del rey</td>\n",
       "      <td>Fundación AMYC - Fran Daurel  Este museo,  sit...</td>\n",
       "      <td>De lunes a viernes de 10:00 a 19:00 horas. Vis...</td>\n",
       "      <td>Consulta los siguientes enlaces:</td>\n",
       "      <td>3.0</td>\n",
       "      <td>http://www.madrid.es/sites/v/index.jsp?vgnextc...</td>\n",
       "      <td>FUENTE DEL REY</td>\n",
       "      <td>calle</td>\n",
       "      <td>V</td>\n",
       "      <td>...</td>\n",
       "      <td>moncloa-aravaca</td>\n",
       "      <td>434663</td>\n",
       "      <td>4478596</td>\n",
       "      <td>40.455469</td>\n",
       "      <td>-3.770572</td>\n",
       "      <td>913 579 116</td>\n",
       "      <td>info@fundaciofrandaurel.com</td>\n",
       "      <td>/contenido/entidadesyorganismos/fundacionescul...</td>\n",
       "      <td>moncloa-aravaca</td>\n",
       "      <td>aravaca</td>\n",
       "    </tr>\n",
       "    <tr>\n",
       "      <th>1</th>\n",
       "      <td>4847190</td>\n",
       "      <td>casa museo lope de vega</td>\n",
       "      <td>'Mi casilla, mi quietud, mi g&amp;amp;uuml;ertecil...</td>\n",
       "      <td>De martes a domingo, de 10 a 18 horas.  Cerrad...</td>\n",
       "      <td>Metro: Antón Martín (línea 1), Sevilla (línea ...</td>\n",
       "      <td>0.4</td>\n",
       "      <td>http://www.madrid.es/sites/v/index.jsp?vgnextc...</td>\n",
       "      <td>CERVANTES</td>\n",
       "      <td>calle</td>\n",
       "      <td>V</td>\n",
       "      <td>...</td>\n",
       "      <td>centro</td>\n",
       "      <td>440825</td>\n",
       "      <td>4473983</td>\n",
       "      <td>40.414369</td>\n",
       "      <td>-3.697467</td>\n",
       "      <td>914 299 216</td>\n",
       "      <td>casamuseolopedevega@madrid.org</td>\n",
       "      <td>/contenido/entidadesyorganismos/museos</td>\n",
       "      <td>centro</td>\n",
       "      <td>cortes</td>\n",
       "    </tr>\n",
       "    <tr>\n",
       "      <th>2</th>\n",
       "      <td>4949641</td>\n",
       "      <td>casita museo de ratón pérez</td>\n",
       "      <td>La Casita-Museo constituye un espacio singular...</td>\n",
       "      <td>Visitas: horarios y reservas.</td>\n",
       "      <td>Metro: Sol (líneas: 1, 2 y 3), Ópera (líneas 2...</td>\n",
       "      <td>0.0</td>\n",
       "      <td>http://www.madrid.es/sites/v/index.jsp?vgnextc...</td>\n",
       "      <td>ARENAL</td>\n",
       "      <td>calle</td>\n",
       "      <td>V</td>\n",
       "      <td>...</td>\n",
       "      <td>centro</td>\n",
       "      <td>440144</td>\n",
       "      <td>4474287</td>\n",
       "      <td>40.417060</td>\n",
       "      <td>-3.705520</td>\n",
       "      <td>915 226 968</td>\n",
       "      <td>info@casamuseoratonperez.es</td>\n",
       "      <td>/contenido/entidadesyorganismos/museos</td>\n",
       "      <td>centro</td>\n",
       "      <td>sol</td>\n",
       "    </tr>\n",
       "    <tr>\n",
       "      <th>3</th>\n",
       "      <td>5682031</td>\n",
       "      <td>castillo de la alameda</td>\n",
       "      <td>El Castillo de la Alameda o de Barajas es uno ...</td>\n",
       "      <td>Abierto solo en fin de semana (sábado y doming...</td>\n",
       "      <td>Metro: Alameda de Osuna y El Capricho (línea 5).</td>\n",
       "      <td>1.6</td>\n",
       "      <td>http://www.madrid.es/sites/v/index.jsp?vgnextc...</td>\n",
       "      <td>ANTONIO SANCHA</td>\n",
       "      <td>calle</td>\n",
       "      <td>V</td>\n",
       "      <td>...</td>\n",
       "      <td>barajas</td>\n",
       "      <td>449698</td>\n",
       "      <td>4478802</td>\n",
       "      <td>40.458365</td>\n",
       "      <td>-3.593276</td>\n",
       "      <td>913 667 415</td>\n",
       "      <td>castilloalameda@madrid.es</td>\n",
       "      <td>/contenido/entidadesyorganismos/monumentosedif...</td>\n",
       "      <td>barajas</td>\n",
       "      <td>alameda de osuna</td>\n",
       "    </tr>\n",
       "    <tr>\n",
       "      <th>4</th>\n",
       "      <td>2064</td>\n",
       "      <td>casón del buen retiro</td>\n",
       "      <td>El Centro de Estudios del Prado está ubicado e...</td>\n",
       "      <td>Desconocido</td>\n",
       "      <td>Metro: Estación del Arte (línea 1), Banco de E...</td>\n",
       "      <td>1.0</td>\n",
       "      <td>http://www.madrid.es/sites/v/index.jsp?vgnextc...</td>\n",
       "      <td>ALFONSO XII</td>\n",
       "      <td>calle</td>\n",
       "      <td>V</td>\n",
       "      <td>...</td>\n",
       "      <td>retiro</td>\n",
       "      <td>441525</td>\n",
       "      <td>4474078</td>\n",
       "      <td>40.415275</td>\n",
       "      <td>-3.689222</td>\n",
       "      <td>913 302 821</td>\n",
       "      <td>centro.estudios@museodelprado.es</td>\n",
       "      <td>/contenido/entidadesyorganismos/monumentosedif...</td>\n",
       "      <td>retiro</td>\n",
       "      <td>los jeronimos</td>\n",
       "    </tr>\n",
       "  </tbody>\n",
       "</table>\n",
       "<p>5 rows × 27 columns</p>\n",
       "</div>"
      ],
      "text/plain": [
       "        PK                       NOMBRE  \\\n",
       "0  6017808    casa museo fuente del rey   \n",
       "1  4847190      casa museo lope de vega   \n",
       "2  4949641  casita museo de ratón pérez   \n",
       "3  5682031       castillo de la alameda   \n",
       "4     2064        casón del buen retiro   \n",
       "\n",
       "                                 DESCRIPCION-ENTIDAD  \\\n",
       "0  Fundación AMYC - Fran Daurel  Este museo,  sit...   \n",
       "1  'Mi casilla, mi quietud, mi g&amp;uuml;ertecil...   \n",
       "2  La Casita-Museo constituye un espacio singular...   \n",
       "3  El Castillo de la Alameda o de Barajas es uno ...   \n",
       "4  El Centro de Estudios del Prado está ubicado e...   \n",
       "\n",
       "                                             HORARIO  \\\n",
       "0  De lunes a viernes de 10:00 a 19:00 horas. Vis...   \n",
       "1  De martes a domingo, de 10 a 18 horas.  Cerrad...   \n",
       "2                      Visitas: horarios y reservas.   \n",
       "3  Abierto solo en fin de semana (sábado y doming...   \n",
       "4                                        Desconocido   \n",
       "\n",
       "                                          TRANSPORTE  ACCESIBILIDAD  \\\n",
       "0                   Consulta los siguientes enlaces:            3.0   \n",
       "1  Metro: Antón Martín (línea 1), Sevilla (línea ...            0.4   \n",
       "2  Metro: Sol (líneas: 1, 2 y 3), Ópera (líneas 2...            0.0   \n",
       "3   Metro: Alameda de Osuna y El Capricho (línea 5).            1.6   \n",
       "4  Metro: Estación del Arte (línea 1), Banco de E...            1.0   \n",
       "\n",
       "                                         CONTENT-URL      NOMBRE-VIA  \\\n",
       "0  http://www.madrid.es/sites/v/index.jsp?vgnextc...  FUENTE DEL REY   \n",
       "1  http://www.madrid.es/sites/v/index.jsp?vgnextc...       CERVANTES   \n",
       "2  http://www.madrid.es/sites/v/index.jsp?vgnextc...          ARENAL   \n",
       "3  http://www.madrid.es/sites/v/index.jsp?vgnextc...  ANTONIO SANCHA   \n",
       "4  http://www.madrid.es/sites/v/index.jsp?vgnextc...     ALFONSO XII   \n",
       "\n",
       "  CLASE-VIAL TIPO-NUM  ...         DISTRITO COORDENADA-X COORDENADA-Y  \\\n",
       "0      calle        V  ...  moncloa-aravaca       434663      4478596   \n",
       "1      calle        V  ...           centro       440825      4473983   \n",
       "2      calle        V  ...           centro       440144      4474287   \n",
       "3      calle        V  ...          barajas       449698      4478802   \n",
       "4      calle        V  ...           retiro       441525      4474078   \n",
       "\n",
       "     LATITUD  LONGITUD     TELEFONO                             EMAIL  \\\n",
       "0  40.455469 -3.770572  913 579 116       info@fundaciofrandaurel.com   \n",
       "1  40.414369 -3.697467  914 299 216    casamuseolopedevega@madrid.org   \n",
       "2  40.417060 -3.705520  915 226 968       info@casamuseoratonperez.es   \n",
       "3  40.458365 -3.593276  913 667 415         castilloalameda@madrid.es   \n",
       "4  40.415275 -3.689222  913 302 821  centro.estudios@museodelprado.es   \n",
       "\n",
       "                                                TIPO    DISTRITO_NORM  \\\n",
       "0  /contenido/entidadesyorganismos/fundacionescul...  moncloa-aravaca   \n",
       "1             /contenido/entidadesyorganismos/museos           centro   \n",
       "2             /contenido/entidadesyorganismos/museos           centro   \n",
       "3  /contenido/entidadesyorganismos/monumentosedif...          barajas   \n",
       "4  /contenido/entidadesyorganismos/monumentosedif...           retiro   \n",
       "\n",
       "        BARRIO_NORM  \n",
       "0           aravaca  \n",
       "1            cortes  \n",
       "2               sol  \n",
       "3  alameda de osuna  \n",
       "4     los jeronimos  \n",
       "\n",
       "[5 rows x 27 columns]"
      ]
     },
     "execution_count": 27,
     "metadata": {},
     "output_type": "execute_result"
    }
   ],
   "source": [
    "df_museos.head()"
   ]
  },
  {
   "cell_type": "code",
   "execution_count": 28,
   "id": "35b1b77a-4503-4e2c-8a57-29df1af8a1ed",
   "metadata": {},
   "outputs": [],
   "source": [
    "df_museos.to_csv(\"museos_limpio.csv\", index=False, encoding=\"utf-8\")"
   ]
  },
  {
   "cell_type": "markdown",
   "id": "310deb78-ead6-4818-99ad-2c63cc7cf81d",
   "metadata": {},
   "source": [
    "## Segundo Dataset Bibliotecas"
   ]
  },
  {
   "cell_type": "code",
   "execution_count": 30,
   "id": "17169514-1792-493b-9a22-57ce34e8ab5f",
   "metadata": {},
   "outputs": [
    {
     "data": {
      "text/plain": [
       "(50, 32)"
      ]
     },
     "execution_count": 30,
     "metadata": {},
     "output_type": "execute_result"
    }
   ],
   "source": [
    "df_bibliotecas.shape"
   ]
  },
  {
   "cell_type": "code",
   "execution_count": 31,
   "id": "b0459b39-04b3-4ffe-9088-5085c0ac7ca8",
   "metadata": {},
   "outputs": [
    {
     "data": {
      "text/html": [
       "<div>\n",
       "<style scoped>\n",
       "    .dataframe tbody tr th:only-of-type {\n",
       "        vertical-align: middle;\n",
       "    }\n",
       "\n",
       "    .dataframe tbody tr th {\n",
       "        vertical-align: top;\n",
       "    }\n",
       "\n",
       "    .dataframe thead th {\n",
       "        text-align: right;\n",
       "    }\n",
       "</style>\n",
       "<table border=\"1\" class=\"dataframe\">\n",
       "  <thead>\n",
       "    <tr style=\"text-align: right;\">\n",
       "      <th></th>\n",
       "      <th>PK</th>\n",
       "      <th>NOMBRE</th>\n",
       "      <th>DESCRIPCION-ENTIDAD</th>\n",
       "      <th>HORARIO</th>\n",
       "      <th>EQUIPAMIENTO</th>\n",
       "      <th>TRANSPORTE</th>\n",
       "      <th>DESCRIPCION</th>\n",
       "      <th>ACCESIBILIDAD</th>\n",
       "      <th>CONTENT-URL</th>\n",
       "      <th>NOMBRE-VIA</th>\n",
       "      <th>...</th>\n",
       "      <th>COD-DISTRITO</th>\n",
       "      <th>DISTRITO</th>\n",
       "      <th>COORDENADA-X</th>\n",
       "      <th>COORDENADA-Y</th>\n",
       "      <th>LATITUD</th>\n",
       "      <th>LONGITUD</th>\n",
       "      <th>TELEFONO</th>\n",
       "      <th>FAX</th>\n",
       "      <th>EMAIL</th>\n",
       "      <th>TIPO</th>\n",
       "    </tr>\n",
       "  </thead>\n",
       "  <tbody>\n",
       "    <tr>\n",
       "      <th>0</th>\n",
       "      <td>25526</td>\n",
       "      <td>Biblioteca Pública Antonio Mingote (Latina)</td>\n",
       "      <td>NaN</td>\n",
       "      <td>Apertura de lunes a sábado.  De lunes a vierne...</td>\n",
       "      <td>Wifi gratuito.</td>\n",
       "      <td>Cercanías Renfe: Maestra Justa Freire - Polide...</td>\n",
       "      <td>Lectura fácil, letra grande, audiodescripción....</td>\n",
       "      <td>1</td>\n",
       "      <td>http://www.madrid.es/sites/v/index.jsp?vgnextc...</td>\n",
       "      <td>RAFAEL FINAT</td>\n",
       "      <td>...</td>\n",
       "      <td>10.0</td>\n",
       "      <td>LATINA</td>\n",
       "      <td>434685</td>\n",
       "      <td>4470157</td>\n",
       "      <td>40.379442</td>\n",
       "      <td>-3.769439</td>\n",
       "      <td>915 093 625</td>\n",
       "      <td>917 068 193</td>\n",
       "      <td>bib.latina@madrid.org</td>\n",
       "      <td>/contenido/entidadesYorganismos/BibliotecasPub...</td>\n",
       "    </tr>\n",
       "    <tr>\n",
       "      <th>1</th>\n",
       "      <td>1774</td>\n",
       "      <td>Biblioteca Pública Elena Fortún (Retiro)</td>\n",
       "      <td>NaN</td>\n",
       "      <td>Apertura de lunes a sábado.  De lunes a vierne...</td>\n",
       "      <td>Wifi gratuito.</td>\n",
       "      <td>Metro: Pacífico (líneas 1 y 6), Conde de Casal...</td>\n",
       "      <td>Lectura fácil, letra grande, audiodescripción.</td>\n",
       "      <td>1</td>\n",
       "      <td>http://www.madrid.es/sites/v/index.jsp?vgnextc...</td>\n",
       "      <td>DOCTOR ESQUERDO</td>\n",
       "      <td>...</td>\n",
       "      <td>3.0</td>\n",
       "      <td>RETIRO</td>\n",
       "      <td>442942</td>\n",
       "      <td>4472768</td>\n",
       "      <td>40.403578</td>\n",
       "      <td>-3.672409</td>\n",
       "      <td>915 019 146</td>\n",
       "      <td>915 018 130</td>\n",
       "      <td>bib.retiro@madrid.org</td>\n",
       "      <td>/contenido/entidadesYorganismos/BibliotecasPub...</td>\n",
       "    </tr>\n",
       "    <tr>\n",
       "      <th>2</th>\n",
       "      <td>1770</td>\n",
       "      <td>Biblioteca Pública Hortaleza</td>\n",
       "      <td>NaN</td>\n",
       "      <td>Apertura de lunes a viernes.  De lunes a jueve...</td>\n",
       "      <td>NaN</td>\n",
       "      <td>Metro: Parque de Santa María (línea 4)</td>\n",
       "      <td>NaN</td>\n",
       "      <td>1</td>\n",
       "      <td>http://www.madrid.es/sites/v/index.jsp?vgnextc...</td>\n",
       "      <td>ABERTURA</td>\n",
       "      <td>...</td>\n",
       "      <td>16.0</td>\n",
       "      <td>HORTALEZA</td>\n",
       "      <td>444936</td>\n",
       "      <td>4480925</td>\n",
       "      <td>40.477193</td>\n",
       "      <td>-3.649620</td>\n",
       "      <td>917 633 284</td>\n",
       "      <td>917 633 284</td>\n",
       "      <td>bib.hortaleza@madrid.org</td>\n",
       "      <td>/contenido/entidadesYorganismos/BibliotecasPub...</td>\n",
       "    </tr>\n",
       "    <tr>\n",
       "      <th>3</th>\n",
       "      <td>1773</td>\n",
       "      <td>Biblioteca Pública Javier Marías (Moratalaz)</td>\n",
       "      <td>NaN</td>\n",
       "      <td>Apertura de lunes a viernes.  De lunes a viern...</td>\n",
       "      <td>Wifi gratuito.</td>\n",
       "      <td>Metro: Artilleros (línea 9)</td>\n",
       "      <td>Lectura fácil, letra grande, audiodescripción.</td>\n",
       "      <td>1</td>\n",
       "      <td>http://www.madrid.es/sites/v/index.jsp?vgnextc...</td>\n",
       "      <td>CORREGIDOR ALONSO DE TOBAR</td>\n",
       "      <td>...</td>\n",
       "      <td>14.0</td>\n",
       "      <td>MORATALAZ</td>\n",
       "      <td>444892</td>\n",
       "      <td>4472800</td>\n",
       "      <td>40.403992</td>\n",
       "      <td>-3.649438</td>\n",
       "      <td>914 394 688</td>\n",
       "      <td>914 370 234</td>\n",
       "      <td>bib.moratalaz@madrid.org</td>\n",
       "      <td>/contenido/entidadesYorganismos/BibliotecasPub...</td>\n",
       "    </tr>\n",
       "    <tr>\n",
       "      <th>4</th>\n",
       "      <td>1771</td>\n",
       "      <td>Biblioteca Pública José Acuña (Moncloa - Aravaca)</td>\n",
       "      <td>NaN</td>\n",
       "      <td>Apertura de lunes a sábado.  De lunes a vierne...</td>\n",
       "      <td>Wifi gratuito.</td>\n",
       "      <td>Metro: Arg&amp;amp;uuml;elles (líneas 3, 4 y 6), V...</td>\n",
       "      <td>NaN</td>\n",
       "      <td>3</td>\n",
       "      <td>http://www.madrid.es/sites/v/index.jsp?vgnextc...</td>\n",
       "      <td>QUINTANA</td>\n",
       "      <td>...</td>\n",
       "      <td>9.0</td>\n",
       "      <td>MONCLOA-ARAVACA</td>\n",
       "      <td>439184</td>\n",
       "      <td>4475503</td>\n",
       "      <td>40.427947</td>\n",
       "      <td>-3.716951</td>\n",
       "      <td>915 413 619</td>\n",
       "      <td>NaN</td>\n",
       "      <td>bib.acuna@madrid.org</td>\n",
       "      <td>/contenido/entidadesYorganismos/BibliotecasPub...</td>\n",
       "    </tr>\n",
       "  </tbody>\n",
       "</table>\n",
       "<p>5 rows × 32 columns</p>\n",
       "</div>"
      ],
      "text/plain": [
       "      PK                                             NOMBRE  \\\n",
       "0  25526        Biblioteca Pública Antonio Mingote (Latina)   \n",
       "1   1774           Biblioteca Pública Elena Fortún (Retiro)   \n",
       "2   1770                       Biblioteca Pública Hortaleza   \n",
       "3   1773       Biblioteca Pública Javier Marías (Moratalaz)   \n",
       "4   1771  Biblioteca Pública José Acuña (Moncloa - Aravaca)   \n",
       "\n",
       "  DESCRIPCION-ENTIDAD                                            HORARIO  \\\n",
       "0                 NaN  Apertura de lunes a sábado.  De lunes a vierne...   \n",
       "1                 NaN  Apertura de lunes a sábado.  De lunes a vierne...   \n",
       "2                 NaN  Apertura de lunes a viernes.  De lunes a jueve...   \n",
       "3                 NaN  Apertura de lunes a viernes.  De lunes a viern...   \n",
       "4                 NaN  Apertura de lunes a sábado.  De lunes a vierne...   \n",
       "\n",
       "     EQUIPAMIENTO                                         TRANSPORTE  \\\n",
       "0  Wifi gratuito.  Cercanías Renfe: Maestra Justa Freire - Polide...   \n",
       "1  Wifi gratuito.  Metro: Pacífico (líneas 1 y 6), Conde de Casal...   \n",
       "2             NaN             Metro: Parque de Santa María (línea 4)   \n",
       "3  Wifi gratuito.                        Metro: Artilleros (línea 9)   \n",
       "4  Wifi gratuito.  Metro: Arg&amp;uuml;elles (líneas 3, 4 y 6), V...   \n",
       "\n",
       "                                         DESCRIPCION ACCESIBILIDAD  \\\n",
       "0  Lectura fácil, letra grande, audiodescripción....             1   \n",
       "1     Lectura fácil, letra grande, audiodescripción.             1   \n",
       "2                                                NaN             1   \n",
       "3     Lectura fácil, letra grande, audiodescripción.             1   \n",
       "4                                                NaN             3   \n",
       "\n",
       "                                         CONTENT-URL  \\\n",
       "0  http://www.madrid.es/sites/v/index.jsp?vgnextc...   \n",
       "1  http://www.madrid.es/sites/v/index.jsp?vgnextc...   \n",
       "2  http://www.madrid.es/sites/v/index.jsp?vgnextc...   \n",
       "3  http://www.madrid.es/sites/v/index.jsp?vgnextc...   \n",
       "4  http://www.madrid.es/sites/v/index.jsp?vgnextc...   \n",
       "\n",
       "                   NOMBRE-VIA  ... COD-DISTRITO         DISTRITO  \\\n",
       "0                RAFAEL FINAT  ...         10.0           LATINA   \n",
       "1             DOCTOR ESQUERDO  ...          3.0           RETIRO   \n",
       "2                    ABERTURA  ...         16.0        HORTALEZA   \n",
       "3  CORREGIDOR ALONSO DE TOBAR  ...         14.0        MORATALAZ   \n",
       "4                    QUINTANA  ...          9.0  MONCLOA-ARAVACA   \n",
       "\n",
       "   COORDENADA-X  COORDENADA-Y    LATITUD  LONGITUD     TELEFONO          FAX  \\\n",
       "0        434685       4470157  40.379442 -3.769439  915 093 625  917 068 193   \n",
       "1        442942       4472768  40.403578 -3.672409  915 019 146  915 018 130   \n",
       "2        444936       4480925  40.477193 -3.649620  917 633 284  917 633 284   \n",
       "3        444892       4472800  40.403992 -3.649438  914 394 688  914 370 234   \n",
       "4        439184       4475503  40.427947 -3.716951  915 413 619          NaN   \n",
       "\n",
       "                      EMAIL                                               TIPO  \n",
       "0     bib.latina@madrid.org  /contenido/entidadesYorganismos/BibliotecasPub...  \n",
       "1     bib.retiro@madrid.org  /contenido/entidadesYorganismos/BibliotecasPub...  \n",
       "2  bib.hortaleza@madrid.org  /contenido/entidadesYorganismos/BibliotecasPub...  \n",
       "3  bib.moratalaz@madrid.org  /contenido/entidadesYorganismos/BibliotecasPub...  \n",
       "4      bib.acuna@madrid.org  /contenido/entidadesYorganismos/BibliotecasPub...  \n",
       "\n",
       "[5 rows x 32 columns]"
      ]
     },
     "execution_count": 31,
     "metadata": {},
     "output_type": "execute_result"
    }
   ],
   "source": [
    "df_bibliotecas.head()"
   ]
  },
  {
   "cell_type": "code",
   "execution_count": 32,
   "id": "e858bb0b-e4ea-4c1c-b617-ae4b980901a5",
   "metadata": {},
   "outputs": [
    {
     "data": {
      "text/plain": [
       "PLANTA                 50\n",
       "ESCALERAS              50\n",
       "PUERTA                 50\n",
       "ORIENTACION            42\n",
       "FAX                    37\n",
       "DESCRIPCION-ENTIDAD    17\n",
       "DESCRIPCION             4\n",
       "COD-DISTRITO            2\n",
       "COD-BARRIO              2\n",
       "EQUIPAMIENTO            1\n",
       "CODIGO-POSTAL           0\n",
       "COORDENADA-Y            0\n",
       "COORDENADA-X            0\n",
       "DISTRITO                0\n",
       "LONGITUD                0\n",
       "TELEFONO                0\n",
       "EMAIL                   0\n",
       "BARRIO                  0\n",
       "LATITUD                 0\n",
       "PK                      0\n",
       "PROVINCIA               0\n",
       "LOCALIDAD               0\n",
       "NOMBRE                  0\n",
       "NUM                     0\n",
       "TIPO-NUM                0\n",
       "CLASE-VIAL              0\n",
       "NOMBRE-VIA              0\n",
       "CONTENT-URL             0\n",
       "ACCESIBILIDAD           0\n",
       "TRANSPORTE              0\n",
       "HORARIO                 0\n",
       "TIPO                    0\n",
       "dtype: int64"
      ]
     },
     "execution_count": 32,
     "metadata": {},
     "output_type": "execute_result"
    }
   ],
   "source": [
    "# Valores nulos por columna\n",
    "df_bibliotecas.isnull().sum().sort_values(ascending=False)"
   ]
  },
  {
   "cell_type": "code",
   "execution_count": 34,
   "id": "ddf6377c-2385-4ee3-b3a6-a91843a3bd88",
   "metadata": {},
   "outputs": [
    {
     "data": {
      "text/plain": [
       "PLANTA                 100.0\n",
       "ESCALERAS              100.0\n",
       "PUERTA                 100.0\n",
       "ORIENTACION             84.0\n",
       "FAX                     74.0\n",
       "DESCRIPCION-ENTIDAD     34.0\n",
       "DESCRIPCION              8.0\n",
       "COD-DISTRITO             4.0\n",
       "COD-BARRIO               4.0\n",
       "EQUIPAMIENTO             2.0\n",
       "CODIGO-POSTAL            0.0\n",
       "COORDENADA-Y             0.0\n",
       "COORDENADA-X             0.0\n",
       "DISTRITO                 0.0\n",
       "LONGITUD                 0.0\n",
       "TELEFONO                 0.0\n",
       "EMAIL                    0.0\n",
       "BARRIO                   0.0\n",
       "LATITUD                  0.0\n",
       "PK                       0.0\n",
       "PROVINCIA                0.0\n",
       "LOCALIDAD                0.0\n",
       "NOMBRE                   0.0\n",
       "NUM                      0.0\n",
       "TIPO-NUM                 0.0\n",
       "CLASE-VIAL               0.0\n",
       "NOMBRE-VIA               0.0\n",
       "CONTENT-URL              0.0\n",
       "ACCESIBILIDAD            0.0\n",
       "TRANSPORTE               0.0\n",
       "HORARIO                  0.0\n",
       "TIPO                     0.0\n",
       "dtype: float64"
      ]
     },
     "execution_count": 34,
     "metadata": {},
     "output_type": "execute_result"
    }
   ],
   "source": [
    "# Porcentaje de valores faltantes\n",
    "(df_bibliotecas.isnull().mean() * 100).sort_values(ascending=False)"
   ]
  },
  {
   "cell_type": "code",
   "execution_count": 35,
   "id": "c5645fe6-f130-41f8-9083-5a8fb50f9d01",
   "metadata": {},
   "outputs": [],
   "source": [
    "# Limpieza de columnas con mayor parte de datos nulos\n",
    "df_bibliotecas.drop(columns=[\"PLANTA\", \"ESCALERAS\", \"PUERTA\", \"ORIENTACION\"], inplace=True)"
   ]
  },
  {
   "cell_type": "code",
   "execution_count": 36,
   "id": "dadc3667-c3a9-44ff-b53a-44c184984988",
   "metadata": {},
   "outputs": [],
   "source": [
    "# Llenar datos faltantes en las otras columnas\n",
    "cols_a_llenar = [\"FAX\", \"DESCRIPCION-ENTIDAD\", \"DESCRIPCION\", \"COD-DISTRITO\", \"COD-BARRIO\", \"EQUIPAMIENTO\"]\n",
    "for col in cols_a_llenar:\n",
    "    df_bibliotecas[col] = df_bibliotecas[col].fillna(\"Desconocido\")"
   ]
  },
  {
   "cell_type": "code",
   "execution_count": 37,
   "id": "cd824a04-8561-460f-8e06-a790fb632395",
   "metadata": {},
   "outputs": [
    {
     "data": {
      "text/plain": [
       "PK                       int64\n",
       "NOMBRE                  object\n",
       "DESCRIPCION-ENTIDAD     object\n",
       "HORARIO                 object\n",
       "EQUIPAMIENTO            object\n",
       "TRANSPORTE              object\n",
       "DESCRIPCION             object\n",
       "ACCESIBILIDAD           object\n",
       "CONTENT-URL             object\n",
       "NOMBRE-VIA              object\n",
       "CLASE-VIAL              object\n",
       "TIPO-NUM                object\n",
       "NUM                      int64\n",
       "LOCALIDAD               object\n",
       "PROVINCIA               object\n",
       "CODIGO-POSTAL            int64\n",
       "COD-BARRIO              object\n",
       "BARRIO                  object\n",
       "COD-DISTRITO            object\n",
       "DISTRITO                object\n",
       "COORDENADA-X             int64\n",
       "COORDENADA-Y             int64\n",
       "LATITUD                float64\n",
       "LONGITUD               float64\n",
       "TELEFONO                object\n",
       "FAX                     object\n",
       "EMAIL                   object\n",
       "TIPO                    object\n",
       "dtype: object"
      ]
     },
     "execution_count": 37,
     "metadata": {},
     "output_type": "execute_result"
    }
   ],
   "source": [
    "df_bibliotecas.dtypes"
   ]
  },
  {
   "cell_type": "code",
   "execution_count": 38,
   "id": "8bf81236-d61c-4f55-b421-862ddf81a36a",
   "metadata": {},
   "outputs": [
    {
     "data": {
      "text/plain": [
       "array(['1', '3', '1,6', '1,5,6', '0,6', '2'], dtype=object)"
      ]
     },
     "execution_count": 38,
     "metadata": {},
     "output_type": "execute_result"
    }
   ],
   "source": [
    "df_bibliotecas[\"ACCESIBILIDAD\"].unique()"
   ]
  },
  {
   "cell_type": "code",
   "execution_count": 39,
   "id": "4629ae47-ac15-453c-b600-f0c5b4b85469",
   "metadata": {},
   "outputs": [
    {
     "data": {
      "text/plain": [
       "array([ 51, 189,   2,   5,   9,  43,   4,   7,  16,  36,  10,   1,  23,\n",
       "        14,  24,  21,  12, 179,  15,  38, 252,   6,  67,  29,  11,  19,\n",
       "         8,  42,  13], dtype=int64)"
      ]
     },
     "execution_count": 39,
     "metadata": {},
     "output_type": "execute_result"
    }
   ],
   "source": [
    "df_bibliotecas[\"NUM\"].unique()"
   ]
  },
  {
   "cell_type": "code",
   "execution_count": 40,
   "id": "1f4b1dd8-7b6e-4c15-a53e-2c1b49933320",
   "metadata": {},
   "outputs": [],
   "source": [
    "df_bibliotecas[\"ACCESIBILIDAD\"] = df_bibliotecas[\"ACCESIBILIDAD\"].str.replace(\",\", \".\", regex=False)\n",
    "df_bibliotecas[\"ACCESIBILIDAD\"] = pd.to_numeric(df_bibliotecas[\"ACCESIBILIDAD\"], errors=\"coerce\")"
   ]
  },
  {
   "cell_type": "code",
   "execution_count": 41,
   "id": "fd354f2b-66e8-4708-b44c-479bd9c64154",
   "metadata": {},
   "outputs": [],
   "source": [
    "df_bibliotecas[\"NUM\"] = pd.to_numeric(df_bibliotecas[\"NUM\"], errors=\"coerce\")"
   ]
  },
  {
   "cell_type": "code",
   "execution_count": 42,
   "id": "cf110cc0-e2be-449a-8ac2-0dc7f4e411a7",
   "metadata": {},
   "outputs": [
    {
     "data": {
      "text/plain": [
       "ACCESIBILIDAD    float64\n",
       "NUM                int64\n",
       "dtype: object"
      ]
     },
     "execution_count": 42,
     "metadata": {},
     "output_type": "execute_result"
    }
   ],
   "source": [
    "df_bibliotecas[[\"ACCESIBILIDAD\", \"NUM\"]].dtypes"
   ]
  },
  {
   "cell_type": "code",
   "execution_count": 43,
   "id": "7e9f7fae-4b03-4439-b104-18456197cdea",
   "metadata": {},
   "outputs": [
    {
     "data": {
      "text/plain": [
       "0"
      ]
     },
     "execution_count": 43,
     "metadata": {},
     "output_type": "execute_result"
    }
   ],
   "source": [
    "df_bibliotecas.duplicated().sum()"
   ]
  },
  {
   "cell_type": "code",
   "execution_count": 44,
   "id": "06ee9064-715f-41bc-86d0-2d9c8ba6eceb",
   "metadata": {},
   "outputs": [],
   "source": [
    "# Normalizar textos\n",
    "\n",
    "cols_texto = [\"NOMBRE\", \"DISTRITO\", \"BARRIO\", \"CLASE-VIAL\", \"TIPO\", \"LOCALIDAD\"]\n",
    "\n",
    "for col in cols_texto:\n",
    "    df_bibliotecas[col] = df_bibliotecas[col].str.strip().str.lower()"
   ]
  },
  {
   "cell_type": "code",
   "execution_count": 45,
   "id": "b95683f2-5037-41a7-a42e-f6551a6b3df0",
   "metadata": {},
   "outputs": [
    {
     "data": {
      "text/plain": [
       "['madrid']"
      ]
     },
     "execution_count": 45,
     "metadata": {},
     "output_type": "execute_result"
    }
   ],
   "source": [
    "sorted(df_bibliotecas[\"LOCALIDAD\"].dropna().unique())"
   ]
  },
  {
   "cell_type": "code",
   "execution_count": 50,
   "id": "f9beb02c-a794-4289-ad8c-ca96d4920f71",
   "metadata": {},
   "outputs": [
    {
     "data": {
      "text/plain": [
       "(12993, 14)"
      ]
     },
     "execution_count": 50,
     "metadata": {},
     "output_type": "execute_result"
    }
   ],
   "source": [
    "df_alojamientos.shape"
   ]
  },
  {
   "cell_type": "code",
   "execution_count": 51,
   "id": "afc208f5-063c-4bf5-8df4-0166a5fc8e1a",
   "metadata": {},
   "outputs": [
    {
     "data": {
      "text/plain": [
       "<bound method DataFrame.info of           alojamiento_tipo       categoria            denominacion via_tipo  \\\n",
       "0                    HOTEL         3-HOTEL            GRAN LEGAZPI    PASEO   \n",
       "1                  PENSION       2-PENSION                  ISABEL    CALLE   \n",
       "2                   HOSTAL        2-HOSTAL                  BESAYA    CALLE   \n",
       "3                   HOSTAL        3-HOSTAL              ASTORIA II      CRA   \n",
       "4                   HOSTAL        3-HOSTAL                ALHAMBRA    CALLE   \n",
       "...                    ...             ...                     ...      ...   \n",
       "12988       CASA HUESPEDES  CASA HUESPEDES  PARADISE SUITES MADRID     CTRA   \n",
       "12989  VIVIENDAS DE USO TU   SIN CATEGORIA                     NaN    CALLE   \n",
       "12990  VIVIENDAS DE USO TU   SIN CATEGORIA                     NaN    CALLE   \n",
       "12991  VIVIENDAS DE USO TU   SIN CATEGORIA                     NaN    CALLE   \n",
       "12992  VIVIENDAS DE USO TU   SIN CATEGORIA                     NaN    CALLE   \n",
       "\n",
       "            via_nombre numero bloque portal escalera planta puerta cdpostal  \\\n",
       "0        de la Chopera     71    NaN    NaN      NaN    NaN    NaN    28045   \n",
       "1          de la Salud     13    NaN    NaN      NaN     3ª    NaN    28013   \n",
       "2      de San Bernardo     13    NaN    NaN      NaN     8ª    NaN    28015   \n",
       "3      de San Jerónimo     32    NaN    NaN      NaN     4º      D    28014   \n",
       "4      de Espoz y Mina      6    NaN    NaN      NaN      2      2    28012   \n",
       "...                ...    ...    ...    ...      ...    ...    ...      ...   \n",
       "12988         CANILLAS     15    NaN    NaN      NaN    NaN    NaN    28043   \n",
       "12989    Floridablanca     44    NaN    NaN      NaN      3    NaN    28200   \n",
       "12990   Carmen Calzado     11    NaN    NaN      NaN   Bajo      A    28806   \n",
       "12991   Carmen Calzado     11    NaN    NaN        1      1      A    28801   \n",
       "12992          Henares      1    NaN      5        9      1      A    28816   \n",
       "\n",
       "                        localidad signatura  \n",
       "0                          Madrid    HM-127  \n",
       "1                          Madrid    HM-132  \n",
       "2                          Madrid    HM-139  \n",
       "3                          Madrid    HM-142  \n",
       "4                          Madrid    HM-143  \n",
       "...                           ...       ...  \n",
       "12988                      Madrid   HM-5090  \n",
       "12989  San Lorenzo de El Escorial  VT-14745  \n",
       "12990           Alcalá de Henares  VT-14788  \n",
       "12991           Alcalá de Henares  VT-14789  \n",
       "12992       Camarma de Esteruelas  VT-14991  \n",
       "\n",
       "[12993 rows x 14 columns]>"
      ]
     },
     "execution_count": 51,
     "metadata": {},
     "output_type": "execute_result"
    }
   ],
   "source": [
    "df_alojamientos.info"
   ]
  },
  {
   "cell_type": "code",
   "execution_count": 52,
   "id": "d175aec9-59b9-4125-9c7a-1c95ec14338d",
   "metadata": {},
   "outputs": [
    {
     "data": {
      "text/html": [
       "<div>\n",
       "<style scoped>\n",
       "    .dataframe tbody tr th:only-of-type {\n",
       "        vertical-align: middle;\n",
       "    }\n",
       "\n",
       "    .dataframe tbody tr th {\n",
       "        vertical-align: top;\n",
       "    }\n",
       "\n",
       "    .dataframe thead th {\n",
       "        text-align: right;\n",
       "    }\n",
       "</style>\n",
       "<table border=\"1\" class=\"dataframe\">\n",
       "  <thead>\n",
       "    <tr style=\"text-align: right;\">\n",
       "      <th></th>\n",
       "      <th>alojamiento_tipo</th>\n",
       "      <th>categoria</th>\n",
       "      <th>denominacion</th>\n",
       "      <th>via_tipo</th>\n",
       "      <th>via_nombre</th>\n",
       "      <th>numero</th>\n",
       "      <th>bloque</th>\n",
       "      <th>portal</th>\n",
       "      <th>escalera</th>\n",
       "      <th>planta</th>\n",
       "      <th>puerta</th>\n",
       "      <th>cdpostal</th>\n",
       "      <th>localidad</th>\n",
       "      <th>signatura</th>\n",
       "    </tr>\n",
       "  </thead>\n",
       "  <tbody>\n",
       "    <tr>\n",
       "      <th>0</th>\n",
       "      <td>HOTEL</td>\n",
       "      <td>3-HOTEL</td>\n",
       "      <td>GRAN LEGAZPI</td>\n",
       "      <td>PASEO</td>\n",
       "      <td>de la Chopera</td>\n",
       "      <td>71</td>\n",
       "      <td>NaN</td>\n",
       "      <td>NaN</td>\n",
       "      <td>NaN</td>\n",
       "      <td>NaN</td>\n",
       "      <td>NaN</td>\n",
       "      <td>28045</td>\n",
       "      <td>Madrid</td>\n",
       "      <td>HM-127</td>\n",
       "    </tr>\n",
       "    <tr>\n",
       "      <th>1</th>\n",
       "      <td>PENSION</td>\n",
       "      <td>2-PENSION</td>\n",
       "      <td>ISABEL</td>\n",
       "      <td>CALLE</td>\n",
       "      <td>de la Salud</td>\n",
       "      <td>13</td>\n",
       "      <td>NaN</td>\n",
       "      <td>NaN</td>\n",
       "      <td>NaN</td>\n",
       "      <td>3ª</td>\n",
       "      <td>NaN</td>\n",
       "      <td>28013</td>\n",
       "      <td>Madrid</td>\n",
       "      <td>HM-132</td>\n",
       "    </tr>\n",
       "    <tr>\n",
       "      <th>2</th>\n",
       "      <td>HOSTAL</td>\n",
       "      <td>2-HOSTAL</td>\n",
       "      <td>BESAYA</td>\n",
       "      <td>CALLE</td>\n",
       "      <td>de San Bernardo</td>\n",
       "      <td>13</td>\n",
       "      <td>NaN</td>\n",
       "      <td>NaN</td>\n",
       "      <td>NaN</td>\n",
       "      <td>8ª</td>\n",
       "      <td>NaN</td>\n",
       "      <td>28015</td>\n",
       "      <td>Madrid</td>\n",
       "      <td>HM-139</td>\n",
       "    </tr>\n",
       "    <tr>\n",
       "      <th>3</th>\n",
       "      <td>HOSTAL</td>\n",
       "      <td>3-HOSTAL</td>\n",
       "      <td>ASTORIA II</td>\n",
       "      <td>CRA</td>\n",
       "      <td>de San Jerónimo</td>\n",
       "      <td>32</td>\n",
       "      <td>NaN</td>\n",
       "      <td>NaN</td>\n",
       "      <td>NaN</td>\n",
       "      <td>4º</td>\n",
       "      <td>D</td>\n",
       "      <td>28014</td>\n",
       "      <td>Madrid</td>\n",
       "      <td>HM-142</td>\n",
       "    </tr>\n",
       "    <tr>\n",
       "      <th>4</th>\n",
       "      <td>HOSTAL</td>\n",
       "      <td>3-HOSTAL</td>\n",
       "      <td>ALHAMBRA</td>\n",
       "      <td>CALLE</td>\n",
       "      <td>de Espoz y Mina</td>\n",
       "      <td>6</td>\n",
       "      <td>NaN</td>\n",
       "      <td>NaN</td>\n",
       "      <td>NaN</td>\n",
       "      <td>2</td>\n",
       "      <td>2</td>\n",
       "      <td>28012</td>\n",
       "      <td>Madrid</td>\n",
       "      <td>HM-143</td>\n",
       "    </tr>\n",
       "  </tbody>\n",
       "</table>\n",
       "</div>"
      ],
      "text/plain": [
       "  alojamiento_tipo  categoria  denominacion via_tipo       via_nombre numero  \\\n",
       "0            HOTEL    3-HOTEL  GRAN LEGAZPI    PASEO    de la Chopera     71   \n",
       "1          PENSION  2-PENSION        ISABEL    CALLE      de la Salud     13   \n",
       "2           HOSTAL   2-HOSTAL        BESAYA    CALLE  de San Bernardo     13   \n",
       "3           HOSTAL   3-HOSTAL    ASTORIA II      CRA  de San Jerónimo     32   \n",
       "4           HOSTAL   3-HOSTAL      ALHAMBRA    CALLE  de Espoz y Mina      6   \n",
       "\n",
       "  bloque portal escalera planta puerta cdpostal localidad signatura  \n",
       "0    NaN    NaN      NaN    NaN    NaN    28045    Madrid    HM-127  \n",
       "1    NaN    NaN      NaN     3ª    NaN    28013    Madrid    HM-132  \n",
       "2    NaN    NaN      NaN     8ª    NaN    28015    Madrid    HM-139  \n",
       "3    NaN    NaN      NaN     4º      D    28014    Madrid    HM-142  \n",
       "4    NaN    NaN      NaN      2      2    28012    Madrid    HM-143  "
      ]
     },
     "execution_count": 52,
     "metadata": {},
     "output_type": "execute_result"
    }
   ],
   "source": [
    "df_alojamientos.head()"
   ]
  },
  {
   "cell_type": "code",
   "execution_count": 53,
   "id": "e0cfa674-dd66-4fb6-b3ab-423df4c68cbb",
   "metadata": {},
   "outputs": [
    {
     "data": {
      "text/plain": [
       "alojamiento_tipo    object\n",
       "categoria           object\n",
       "denominacion        object\n",
       "via_tipo            object\n",
       "via_nombre          object\n",
       "numero              object\n",
       "bloque              object\n",
       "portal              object\n",
       "escalera            object\n",
       "planta              object\n",
       "puerta              object\n",
       "cdpostal            object\n",
       "localidad           object\n",
       "signatura           object\n",
       "dtype: object"
      ]
     },
     "execution_count": 53,
     "metadata": {},
     "output_type": "execute_result"
    }
   ],
   "source": [
    "df_alojamientos.dtypes"
   ]
  },
  {
   "cell_type": "code",
   "execution_count": 55,
   "id": "8027a6e0-fdca-40ae-9da7-2eaf8d962c08",
   "metadata": {},
   "outputs": [
    {
     "name": "stdout",
     "output_type": "stream",
     "text": [
      "<class 'pandas.core.frame.DataFrame'>\n",
      "RangeIndex: 12993 entries, 0 to 12992\n",
      "Data columns (total 14 columns):\n",
      " #   Column            Non-Null Count  Dtype \n",
      "---  ------            --------------  ----- \n",
      " 0   alojamiento_tipo  12993 non-null  object\n",
      " 1   categoria         12993 non-null  object\n",
      " 2   denominacion      10704 non-null  object\n",
      " 3   via_tipo          12992 non-null  object\n",
      " 4   via_nombre        12975 non-null  object\n",
      " 5   numero            12977 non-null  object\n",
      " 6   bloque            188 non-null    object\n",
      " 7   portal            481 non-null    object\n",
      " 8   escalera          1307 non-null   object\n",
      " 9   planta            10906 non-null  object\n",
      " 10  puerta            10113 non-null  object\n",
      " 11  cdpostal          12127 non-null  object\n",
      " 12  localidad         12993 non-null  object\n",
      " 13  signatura         12993 non-null  object\n",
      "dtypes: object(14)\n",
      "memory usage: 1.4+ MB\n"
     ]
    },
    {
     "data": {
      "text/html": [
       "<div>\n",
       "<style scoped>\n",
       "    .dataframe tbody tr th:only-of-type {\n",
       "        vertical-align: middle;\n",
       "    }\n",
       "\n",
       "    .dataframe tbody tr th {\n",
       "        vertical-align: top;\n",
       "    }\n",
       "\n",
       "    .dataframe thead th {\n",
       "        text-align: right;\n",
       "    }\n",
       "</style>\n",
       "<table border=\"1\" class=\"dataframe\">\n",
       "  <thead>\n",
       "    <tr style=\"text-align: right;\">\n",
       "      <th></th>\n",
       "      <th>alojamiento_tipo</th>\n",
       "      <th>categoria</th>\n",
       "      <th>denominacion</th>\n",
       "      <th>via_tipo</th>\n",
       "      <th>via_nombre</th>\n",
       "      <th>numero</th>\n",
       "      <th>bloque</th>\n",
       "      <th>portal</th>\n",
       "      <th>escalera</th>\n",
       "      <th>planta</th>\n",
       "      <th>puerta</th>\n",
       "      <th>cdpostal</th>\n",
       "      <th>localidad</th>\n",
       "      <th>signatura</th>\n",
       "    </tr>\n",
       "  </thead>\n",
       "  <tbody>\n",
       "    <tr>\n",
       "      <th>0</th>\n",
       "      <td>HOTEL</td>\n",
       "      <td>3-HOTEL</td>\n",
       "      <td>GRAN LEGAZPI</td>\n",
       "      <td>PASEO</td>\n",
       "      <td>de la Chopera</td>\n",
       "      <td>71</td>\n",
       "      <td>NaN</td>\n",
       "      <td>NaN</td>\n",
       "      <td>NaN</td>\n",
       "      <td>NaN</td>\n",
       "      <td>NaN</td>\n",
       "      <td>28045</td>\n",
       "      <td>Madrid</td>\n",
       "      <td>HM-127</td>\n",
       "    </tr>\n",
       "    <tr>\n",
       "      <th>1</th>\n",
       "      <td>PENSION</td>\n",
       "      <td>2-PENSION</td>\n",
       "      <td>ISABEL</td>\n",
       "      <td>CALLE</td>\n",
       "      <td>de la Salud</td>\n",
       "      <td>13</td>\n",
       "      <td>NaN</td>\n",
       "      <td>NaN</td>\n",
       "      <td>NaN</td>\n",
       "      <td>3ª</td>\n",
       "      <td>NaN</td>\n",
       "      <td>28013</td>\n",
       "      <td>Madrid</td>\n",
       "      <td>HM-132</td>\n",
       "    </tr>\n",
       "    <tr>\n",
       "      <th>2</th>\n",
       "      <td>HOSTAL</td>\n",
       "      <td>2-HOSTAL</td>\n",
       "      <td>BESAYA</td>\n",
       "      <td>CALLE</td>\n",
       "      <td>de San Bernardo</td>\n",
       "      <td>13</td>\n",
       "      <td>NaN</td>\n",
       "      <td>NaN</td>\n",
       "      <td>NaN</td>\n",
       "      <td>8ª</td>\n",
       "      <td>NaN</td>\n",
       "      <td>28015</td>\n",
       "      <td>Madrid</td>\n",
       "      <td>HM-139</td>\n",
       "    </tr>\n",
       "    <tr>\n",
       "      <th>3</th>\n",
       "      <td>HOSTAL</td>\n",
       "      <td>3-HOSTAL</td>\n",
       "      <td>ASTORIA II</td>\n",
       "      <td>CRA</td>\n",
       "      <td>de San Jerónimo</td>\n",
       "      <td>32</td>\n",
       "      <td>NaN</td>\n",
       "      <td>NaN</td>\n",
       "      <td>NaN</td>\n",
       "      <td>4º</td>\n",
       "      <td>D</td>\n",
       "      <td>28014</td>\n",
       "      <td>Madrid</td>\n",
       "      <td>HM-142</td>\n",
       "    </tr>\n",
       "    <tr>\n",
       "      <th>4</th>\n",
       "      <td>HOSTAL</td>\n",
       "      <td>3-HOSTAL</td>\n",
       "      <td>ALHAMBRA</td>\n",
       "      <td>CALLE</td>\n",
       "      <td>de Espoz y Mina</td>\n",
       "      <td>6</td>\n",
       "      <td>NaN</td>\n",
       "      <td>NaN</td>\n",
       "      <td>NaN</td>\n",
       "      <td>2</td>\n",
       "      <td>2</td>\n",
       "      <td>28012</td>\n",
       "      <td>Madrid</td>\n",
       "      <td>HM-143</td>\n",
       "    </tr>\n",
       "  </tbody>\n",
       "</table>\n",
       "</div>"
      ],
      "text/plain": [
       "  alojamiento_tipo  categoria  denominacion via_tipo       via_nombre numero  \\\n",
       "0            HOTEL    3-HOTEL  GRAN LEGAZPI    PASEO    de la Chopera     71   \n",
       "1          PENSION  2-PENSION        ISABEL    CALLE      de la Salud     13   \n",
       "2           HOSTAL   2-HOSTAL        BESAYA    CALLE  de San Bernardo     13   \n",
       "3           HOSTAL   3-HOSTAL    ASTORIA II      CRA  de San Jerónimo     32   \n",
       "4           HOSTAL   3-HOSTAL      ALHAMBRA    CALLE  de Espoz y Mina      6   \n",
       "\n",
       "  bloque portal escalera planta puerta cdpostal localidad signatura  \n",
       "0    NaN    NaN      NaN    NaN    NaN    28045    Madrid    HM-127  \n",
       "1    NaN    NaN      NaN     3ª    NaN    28013    Madrid    HM-132  \n",
       "2    NaN    NaN      NaN     8ª    NaN    28015    Madrid    HM-139  \n",
       "3    NaN    NaN      NaN     4º      D    28014    Madrid    HM-142  \n",
       "4    NaN    NaN      NaN      2      2    28012    Madrid    HM-143  "
      ]
     },
     "execution_count": 55,
     "metadata": {},
     "output_type": "execute_result"
    }
   ],
   "source": [
    "df_alojamientos.info()\n",
    "df_alojamientos.shape\n",
    "df_alojamientos.head()"
   ]
  },
  {
   "cell_type": "code",
   "execution_count": 56,
   "id": "091343a4-9b7c-48b8-9322-6c62386dafc9",
   "metadata": {},
   "outputs": [],
   "source": [
    "df_alojamientos[\"cdpostal\"] = pd.to_numeric(df_alojamientos[\"cdpostal\"], errors=\"coerce\")"
   ]
  },
  {
   "cell_type": "code",
   "execution_count": 57,
   "id": "b24bbaf5-4d22-4152-9c0a-ced94a3e3124",
   "metadata": {},
   "outputs": [],
   "source": [
    "df_alojamientos[\"planta\"] = df_alojamientos[\"planta\"].str.replace(\"°|ª\", \"\", regex=True)"
   ]
  },
  {
   "cell_type": "code",
   "execution_count": 58,
   "id": "6211bfcf-5b03-4abc-88ce-f4ab62284c20",
   "metadata": {},
   "outputs": [
    {
     "data": {
      "text/plain": [
       "0"
      ]
     },
     "execution_count": 58,
     "metadata": {},
     "output_type": "execute_result"
    }
   ],
   "source": [
    "df_alojamientos.duplicated().sum()"
   ]
  },
  {
   "cell_type": "code",
   "execution_count": 59,
   "id": "968877d8-c3e3-4448-9440-46725890ba6e",
   "metadata": {},
   "outputs": [
    {
     "data": {
      "text/plain": [
       "alojamiento_tipo       12\n",
       "categoria              29\n",
       "denominacion        10322\n",
       "via_tipo               29\n",
       "via_nombre           3019\n",
       "numero                393\n",
       "bloque                 13\n",
       "portal                 73\n",
       "escalera               93\n",
       "planta                283\n",
       "puerta                858\n",
       "cdpostal              275\n",
       "localidad             167\n",
       "signatura           12993\n",
       "dtype: int64"
      ]
     },
     "execution_count": 59,
     "metadata": {},
     "output_type": "execute_result"
    }
   ],
   "source": [
    "df_alojamientos.nunique()"
   ]
  },
  {
   "cell_type": "code",
   "execution_count": 61,
   "id": "11f29cd9-f76c-4eb1-aa59-98bdef89afae",
   "metadata": {},
   "outputs": [
    {
     "name": "stdout",
     "output_type": "stream",
     "text": [
      "alojamiento_tipo:\n",
      "['HOTEL' 'PENSION' 'HOSTAL' 'CASA HUESPEDES' 'HOTEL-APART.'\n",
      " 'APARTAMENTO RURAL' 'HOTEL RURAL' 'CASA RURAL' 'APART-TURISTICO'\n",
      " 'HOSTERIAS' 'VIVIENDAS DE USO TU' 'CAMPING']\n",
      "\n",
      "categoria:\n",
      "['3-HOTEL' '2-PENSION' '2-HOSTAL' '3-HOSTAL' 'CASA HUESPEDES' '1-PENSION'\n",
      " '3-PENSION' '1-HOSTAL' '4-HOTEL' '5-HOTEL' '2-HOTEL' '5 estrellas L'\n",
      " '1-HOTEL' '4-HOTEL-APART.' '1-HOTEL-APART.' '2-HOTEL-APART.'\n",
      " '3-HOTEL-APART.' 'APARTAMENTO RURAL' '1-HOJA DE ROBLE' '3-HOJA DE ROBLE'\n",
      " 'CASA RURAL' '2-HOJA DE ROBLE' '3-APART-TURISTICO' '2-APART-TURISTICO'\n",
      " '1-APART-TURISTICO' '4-APART-TURISTICO' 'SIN CATEGORIA' '1-CAMPING'\n",
      " '2-CAMPING']\n",
      "\n",
      "via_tipo:\n",
      "['PASEO' 'CALLE' 'CRA' 'PLAZA' 'CUSTA' 'AVDA' 'CTRA' 'AVIA' 'BULEV'\n",
      " 'CSTAN' 'GTA' 'TRVA' 'COL' 'CMNO' 'RONDA' 'FINCA' 'PRAJE' 'CLLJA' 'PSAJE'\n",
      " 'CLLON' 'URB' 'PZO' 'BARRO' 'SECT' 'DISEM' 'RTDA' 'POLIG' 'LUGAR' nan\n",
      " 'EXTRR']\n",
      "\n",
      "localidad:\n",
      "['Madrid' 'Cabrera, La' 'Aranjuez' 'Somosierra' 'Torrelodones'\n",
      " 'San Lorenzo de El Escorial' 'Cercedilla' 'Navacerrada' 'Getafe'\n",
      " 'Escorial, El' 'Manzanares el Real' 'Guadarrama' 'Navalcarnero'\n",
      " 'Alcobendas' 'Fuenlabrada' 'Buitrago del Lozoya' 'Villaviciosa de Odón'\n",
      " 'Arganda del Rey' 'Móstoles' 'Collado Villalba' 'Alcalá de Henares'\n",
      " 'Villarejo de Salvanés' 'San Sebastián de los Reyes' 'Rascafría'\n",
      " 'San Martín de Valdeiglesias' 'Leganés' 'Colmenarejo'\n",
      " 'Santa María de la Alameda' 'Torrejón de Ardoz' 'Paracuellos de Jarama'\n",
      " 'San Fernando de Henares' 'Alcorcón' 'Coslada' 'Mejorada del Campo'\n",
      " 'Pinto' 'Fresnedillas de la Oliva' 'Boadilla del Monte'\n",
      " 'Horcajo de la Sierra-Aoslos' 'Cadalso de los Vidrios' 'Villa del Prado'\n",
      " 'Colmenar Viejo' 'Bustarviejo' 'Valdemoro' 'Montejo de la Sierra'\n",
      " 'Villavieja del Lozoya' 'Villanueva del Pardillo' 'Valdemorillo'\n",
      " 'Villanueva de la Cañada' 'Navas del Rey' 'Algete' 'Pelayos de la Presa'\n",
      " 'San Agustín del Guadalix' 'Soto del Real' 'Miraflores de la Sierra'\n",
      " 'Molinos, Los' 'Alpedrete' 'Torres de la Alameda' 'Tres Cantos'\n",
      " 'Casarrubuelos' 'Velilla de San Antonio' 'Humanes de Madrid' 'Canencia'\n",
      " 'Guadalix de la Sierra' 'Majadahonda' 'Ciempozuelos' 'Chinchón'\n",
      " 'Daganzo de Arriba' 'Molar, El' 'Villalbilla' 'Cervera de Buitrago'\n",
      " 'Patones' 'Moralzarzal' 'Zarzalejo' 'Moraleja de Enmedio' 'Valdilecha'\n",
      " 'Cobeña' 'Galapagar' 'Colmenar de Oreja' 'Sevilla la Nueva'\n",
      " 'Fuente el Saz de Jarama' 'Puentes Viejas' 'San Martín de la Vega'\n",
      " 'Brunete' 'Navalafuente' 'Rivas-Vaciamadrid' 'Pozuelo del Rey'\n",
      " 'Rozas de Madrid, Las' 'Serna del Monte, La' 'Parla' 'Brea de Tajo'\n",
      " 'Griñón' 'Acebeda, La' 'Piñuécar-Gandullas' 'Fuentidueña de Tajo'\n",
      " 'Ajalvir' 'Collado Mediano' 'Morata de Tajuña' 'Campo Real'\n",
      " 'Lozoyuela-Navas-Sieteiglesias' 'Loeches' 'Estremera'\n",
      " 'Robledo de Chavela' 'Tielmes' 'Pozuelo de Alarcón' 'Torrejón de Velasco'\n",
      " 'Camarma de Esteruelas' 'Meco' 'Valdemanco' 'Arroyomolinos'\n",
      " 'Colmenar del Arroyo' 'Villamanta'\n",
      " 'Gargantilla del Lozoya y Pinilla de Buitrago' 'Cenicientos'\n",
      " 'Navarredonda y San Mamés' 'Torrelaguna' 'Santos de la Humosa, Los'\n",
      " 'Alameda del Valle' 'Ribatejada' 'Aldea del Fresno' 'Atazar, El'\n",
      " 'Carabaña' 'Valdelaguna' 'Boalo, El' 'Madarcos' 'Gascones' 'Berrueco, El'\n",
      " 'Braojos' 'Hiruela, La' 'Belmonte de Tajo' 'Titulcia' 'Santorcaz'\n",
      " 'Navalagamella' 'Robledillo de la Jara' 'Puebla de la Sierra'\n",
      " 'Villar del Olmo' 'Rozas de Puerto Real' 'Olmeda de las Fuentes'\n",
      " 'Prádena del Rincón' 'Berzosa del Lozoya' 'Hoyo de Manzanares'\n",
      " 'Valdemaqueda' 'Chapinería' 'Lozoya' 'Torremocha de Jarama'\n",
      " 'Villamanrique de Tajo' 'Vellón, El' 'Valdaracete'\n",
      " 'Garganta de los Montes' 'Perales de Tajuña' 'Robregordo' 'Valdeavero'\n",
      " 'Horcajuelo de la Sierra' 'Cabanillas de la Sierra' 'Venturada'\n",
      " 'Nuevo Baztán' 'Becerril de la Sierra' 'Pedrezuela' 'Álamo, El' 'Ambite'\n",
      " 'Batres' 'Pinilla del Valle' 'Valdepiélagos' 'Valdetorres de Jarama'\n",
      " 'Valdeolmos-Alalpardo' 'Pezuela de las Torres' 'Talamanca de Jarama'\n",
      " 'Orusco de Tajuña']\n",
      "\n"
     ]
    }
   ],
   "source": [
    "for col in [\"alojamiento_tipo\", \"categoria\", \"via_tipo\", \"localidad\"]:\n",
    "    print(f\"{col}:\")\n",
    "    print(df_alojamientos[col].unique())\n",
    "    print()"
   ]
  },
  {
   "cell_type": "code",
   "execution_count": 62,
   "id": "6f9051c9-c61d-41ab-9e13-3dcabfcf1805",
   "metadata": {},
   "outputs": [],
   "source": [
    "df_alojamientos[\"categoria\"] = df_alojamientos[\"categoria\"].str.upper().str.strip()"
   ]
  },
  {
   "cell_type": "code",
   "execution_count": 63,
   "id": "4b975add-9ade-46d9-8c1a-723b61afaadc",
   "metadata": {},
   "outputs": [],
   "source": [
    "df_alojamientos['via_tipo'] = df_alojamientos['via_tipo'].str.lower().str.strip()"
   ]
  },
  {
   "cell_type": "code",
   "execution_count": 65,
   "id": "800bb349-ad97-4f2f-a8a5-3cac7756f68f",
   "metadata": {},
   "outputs": [],
   "source": [
    "df_alojamientos['localidad'] = df_alojamientos['localidad'].str.title().str.strip()"
   ]
  },
  {
   "cell_type": "code",
   "execution_count": 66,
   "id": "b81d25c2-e5e1-4ba3-8d8f-6bc153d699b8",
   "metadata": {},
   "outputs": [
    {
     "name": "stdout",
     "output_type": "stream",
     "text": [
      "alojamiento_tipo:\n",
      "['HOTEL' 'PENSION' 'HOSTAL' 'CASA HUESPEDES' 'HOTEL-APART.'\n",
      " 'APARTAMENTO RURAL' 'HOTEL RURAL' 'CASA RURAL' 'APART-TURISTICO'\n",
      " 'HOSTERIAS' 'VIVIENDAS DE USO TU' 'CAMPING']\n",
      "\n",
      "categoria:\n",
      "['3-HOTEL' '2-PENSION' '2-HOSTAL' '3-HOSTAL' 'CASA HUESPEDES' '1-PENSION'\n",
      " '3-PENSION' '1-HOSTAL' '4-HOTEL' '5-HOTEL' '2-HOTEL' '5 ESTRELLAS L'\n",
      " '1-HOTEL' '4-HOTEL-APART.' '1-HOTEL-APART.' '2-HOTEL-APART.'\n",
      " '3-HOTEL-APART.' 'APARTAMENTO RURAL' '1-HOJA DE ROBLE' '3-HOJA DE ROBLE'\n",
      " 'CASA RURAL' '2-HOJA DE ROBLE' '3-APART-TURISTICO' '2-APART-TURISTICO'\n",
      " '1-APART-TURISTICO' '4-APART-TURISTICO' 'SIN CATEGORIA' '1-CAMPING'\n",
      " '2-CAMPING']\n",
      "\n",
      "via_tipo:\n",
      "['paseo' 'calle' 'cra' 'plaza' 'custa' 'avda' 'ctra' 'avia' 'bulev'\n",
      " 'cstan' 'gta' 'trva' 'col' 'cmno' 'ronda' 'finca' 'praje' 'cllja' 'psaje'\n",
      " 'cllon' 'urb' 'pzo' 'barro' 'sect' 'disem' 'rtda' 'polig' 'lugar' nan\n",
      " 'extrr']\n",
      "\n",
      "localidad:\n",
      "['Madrid' 'Cabrera, La' 'Aranjuez' 'Somosierra' 'Torrelodones'\n",
      " 'San Lorenzo De El Escorial' 'Cercedilla' 'Navacerrada' 'Getafe'\n",
      " 'Escorial, El' 'Manzanares El Real' 'Guadarrama' 'Navalcarnero'\n",
      " 'Alcobendas' 'Fuenlabrada' 'Buitrago Del Lozoya' 'Villaviciosa De Odón'\n",
      " 'Arganda Del Rey' 'Móstoles' 'Collado Villalba' 'Alcalá De Henares'\n",
      " 'Villarejo De Salvanés' 'San Sebastián De Los Reyes' 'Rascafría'\n",
      " 'San Martín De Valdeiglesias' 'Leganés' 'Colmenarejo'\n",
      " 'Santa María De La Alameda' 'Torrejón De Ardoz' 'Paracuellos De Jarama'\n",
      " 'San Fernando De Henares' 'Alcorcón' 'Coslada' 'Mejorada Del Campo'\n",
      " 'Pinto' 'Fresnedillas De La Oliva' 'Boadilla Del Monte'\n",
      " 'Horcajo De La Sierra-Aoslos' 'Cadalso De Los Vidrios' 'Villa Del Prado'\n",
      " 'Colmenar Viejo' 'Bustarviejo' 'Valdemoro' 'Montejo De La Sierra'\n",
      " 'Villavieja Del Lozoya' 'Villanueva Del Pardillo' 'Valdemorillo'\n",
      " 'Villanueva De La Cañada' 'Navas Del Rey' 'Algete' 'Pelayos De La Presa'\n",
      " 'San Agustín Del Guadalix' 'Soto Del Real' 'Miraflores De La Sierra'\n",
      " 'Molinos, Los' 'Alpedrete' 'Torres De La Alameda' 'Tres Cantos'\n",
      " 'Casarrubuelos' 'Velilla De San Antonio' 'Humanes De Madrid' 'Canencia'\n",
      " 'Guadalix De La Sierra' 'Majadahonda' 'Ciempozuelos' 'Chinchón'\n",
      " 'Daganzo De Arriba' 'Molar, El' 'Villalbilla' 'Cervera De Buitrago'\n",
      " 'Patones' 'Moralzarzal' 'Zarzalejo' 'Moraleja De Enmedio' 'Valdilecha'\n",
      " 'Cobeña' 'Galapagar' 'Colmenar De Oreja' 'Sevilla La Nueva'\n",
      " 'Fuente El Saz De Jarama' 'Puentes Viejas' 'San Martín De La Vega'\n",
      " 'Brunete' 'Navalafuente' 'Rivas-Vaciamadrid' 'Pozuelo Del Rey'\n",
      " 'Rozas De Madrid, Las' 'Serna Del Monte, La' 'Parla' 'Brea De Tajo'\n",
      " 'Griñón' 'Acebeda, La' 'Piñuécar-Gandullas' 'Fuentidueña De Tajo'\n",
      " 'Ajalvir' 'Collado Mediano' 'Morata De Tajuña' 'Campo Real'\n",
      " 'Lozoyuela-Navas-Sieteiglesias' 'Loeches' 'Estremera'\n",
      " 'Robledo De Chavela' 'Tielmes' 'Pozuelo De Alarcón' 'Torrejón De Velasco'\n",
      " 'Camarma De Esteruelas' 'Meco' 'Valdemanco' 'Arroyomolinos'\n",
      " 'Colmenar Del Arroyo' 'Villamanta'\n",
      " 'Gargantilla Del Lozoya Y Pinilla De Buitrago' 'Cenicientos'\n",
      " 'Navarredonda Y San Mamés' 'Torrelaguna' 'Santos De La Humosa, Los'\n",
      " 'Alameda Del Valle' 'Ribatejada' 'Aldea Del Fresno' 'Atazar, El'\n",
      " 'Carabaña' 'Valdelaguna' 'Boalo, El' 'Madarcos' 'Gascones' 'Berrueco, El'\n",
      " 'Braojos' 'Hiruela, La' 'Belmonte De Tajo' 'Titulcia' 'Santorcaz'\n",
      " 'Navalagamella' 'Robledillo De La Jara' 'Puebla De La Sierra'\n",
      " 'Villar Del Olmo' 'Rozas De Puerto Real' 'Olmeda De Las Fuentes'\n",
      " 'Prádena Del Rincón' 'Berzosa Del Lozoya' 'Hoyo De Manzanares'\n",
      " 'Valdemaqueda' 'Chapinería' 'Lozoya' 'Torremocha De Jarama'\n",
      " 'Villamanrique De Tajo' 'Vellón, El' 'Valdaracete'\n",
      " 'Garganta De Los Montes' 'Perales De Tajuña' 'Robregordo' 'Valdeavero'\n",
      " 'Horcajuelo De La Sierra' 'Cabanillas De La Sierra' 'Venturada'\n",
      " 'Nuevo Baztán' 'Becerril De La Sierra' 'Pedrezuela' 'Álamo, El' 'Ambite'\n",
      " 'Batres' 'Pinilla Del Valle' 'Valdepiélagos' 'Valdetorres De Jarama'\n",
      " 'Valdeolmos-Alalpardo' 'Pezuela De Las Torres' 'Talamanca De Jarama'\n",
      " 'Orusco De Tajuña']\n",
      "\n"
     ]
    }
   ],
   "source": [
    "for col in [\"alojamiento_tipo\", \"categoria\", \"via_tipo\", \"localidad\"]:\n",
    "    print(f\"{col}:\")\n",
    "    print(df_alojamientos[col].unique())\n",
    "    print()"
   ]
  },
  {
   "cell_type": "code",
   "execution_count": 68,
   "id": "da352723-aef5-40a5-9787-3b92a40418ad",
   "metadata": {},
   "outputs": [
    {
     "data": {
      "text/plain": [
       "array([28045., 28013., 28015., 28014., 28012., 28004., 28010., 28046.,\n",
       "       28006., 28001., 28008.,    nan, 28005., 28003., 28020., 28009.,\n",
       "       28751., 28300., 28756., 28250., 28200., 28470., 28491., 28906.,\n",
       "       28039., 28042., 28280., 28047., 28410., 28480., 28017., 28600.,\n",
       "       28034., 28100., 28944., 28730., 28670., 28500., 28931., 28400.,\n",
       "       28108., 28801., 28590., 28440., 28701., 28007., 28036., 28807.,\n",
       "       28035., 28740., 28680., 28026., 28912., 28911., 28270., 28296.,\n",
       "       28850., 28025., 28860., 28805., 28802., 28830., 28921., 28821.,\n",
       "       28840., 28320., 28214., 28660., 28755., 28640., 28630., 28770.,\n",
       "       28720., 28341., 28901., 28190., 28739., 28803., 28229., 28210.,\n",
       "       28691., 28695., 28110., 28696., 28750., 28791., 28792., 28916.,\n",
       "       28040., 28460., 28430., 28813., 28760., 28342., 28977., 28891.,\n",
       "       28970., 28743., 28027., 28794., 28031., 28220., 28350., 28370.,\n",
       "       28043., 28814., 28710., 28703., 28810., 28053., 28193., 28904.,\n",
       "       28823., 28028., 28934., 28189., 28941., 28411., 28293., 28950.,\n",
       "       28511., 28863., 28260., 28380., 28609., 28140., 28754., 28033.,\n",
       "       28330., 28907., 28690., 28946., 28037., 28729., 28522., 28044.,\n",
       "       28749., 28290., 28737., 28002., 28983., 28702., 28596., 28232.,\n",
       "       28022., 28971., 28922., 28806., 28016., 28804., 28597., 28943.,\n",
       "       28864., 28450., 28050., 28530., 28510., 28119., 28032., 28752.,\n",
       "       28982., 28023., 28890., 28595., 28294., 28550., 28029., 28223.,\n",
       "       28990., 28816., 28051., 28021., 28914., 28011., 28880., 28343.,\n",
       "       28939., 28213., 28610., 28195., 28650., 28180., 28817., 28815.,\n",
       "       28196., 28620., 28560., 28391., 28479., 28753., 28707., 28492.,\n",
       "       28192., 28191., 28390., 28359., 28818., 28212., 28194., 28512.,\n",
       "       28649., 28515., 28240., 28295., 28694., 28742., 28598., 28722.,\n",
       "       28594., 28540., 28231., 28297., 28019., 28224., 28412., 28721.,\n",
       "       28041., 28018., 28038., 28902., 28514., 28439., 28109., 28024.,\n",
       "       28490., 28030., 28723., 28055., 28221., 28648., 28222., 28049.,\n",
       "       28607., 28669., 28521., 28924., 28935., 28580., 28976., 28925.,\n",
       "       28981., 28937., 28420., 28909., 28932., 28292., 28793., 28822.,\n",
       "       28120., 28923., 28903., 28170., 28150., 28054., 28130., 28413.,\n",
       "       28812., 28700., 28861., 28230., 28080., 28972., 28160., 28933.,\n",
       "       28936., 28523., 28851., 28980., 28219., 28181., 28945., 28927.,\n",
       "       28913., 28570., 29640., 28248.])"
      ]
     },
     "execution_count": 68,
     "metadata": {},
     "output_type": "execute_result"
    }
   ],
   "source": [
    "df_alojamientos[\"cdpostal\"].unique()"
   ]
  },
  {
   "cell_type": "code",
   "execution_count": 69,
   "id": "6a6f1d37-27c1-4746-aff1-1dd9cb90f4d2",
   "metadata": {},
   "outputs": [
    {
     "data": {
      "text/plain": [
       "array(['71', '13', '32', '6', '15', '38', '12', '10', '7', '2', '56',\n",
       "       '67', '14', '31', '4', '19', '44', '1', '17', '33', '50', '5',\n",
       "       '29', '11', '41', '18', '49', '26', '3', '53', '152', '9', '8',\n",
       "       '24', '111', '62', '79', '28', '94', '34', '23', '80', '40', '112',\n",
       "       '81', '64', '253', '63', '27', '92,500', '20', '14,200', '157',\n",
       "       '78', '21', '55', '104', '154', '61', '16', '46', '117', '102',\n",
       "       '36', '39', '82', '35', '177', '145', '95', '75', '115', '54',\n",
       "       '37', '51', '30', '90', '25', '25,600', '43', '22', '25,00', '105',\n",
       "       '76', '133', '12,700', '131', '4 Y 6', '168', '45', '47', '68',\n",
       "       '42', '34-36', '4-6', '173', '60', '98', '139', '87,8', '36,800',\n",
       "       '91', '57', 'S/N', '96', '16,200', '110', '92', '7,300', '73',\n",
       "       '331', '167', '3,500', '304', '65', '128', '220', '52,5', '69',\n",
       "       '20,60', '476', '191', '143', '0,15', '5,500', '48', '83',\n",
       "       '81,400', '611', '77', '62,500', '400', '1,375', '0,200', '66',\n",
       "       '402', '20,700', '364', '259', '4-5', '332', '68,000', '59',\n",
       "       '1,800', '2400', '8-10', '52-54', '28,2', nan, '180', '366', '58',\n",
       "       '113', '52', '147', '10-12', '87', '35,600', '151', '16A', '1,5',\n",
       "       '4.500', '163', '9,200', '262', '7,700', '7,800', '10,200',\n",
       "       '51,500', '50,500', '1-3-5', '1233', '14-16', '30,500', '236',\n",
       "       '127', '288', '19,200', '1,600', '1232', '120', '109', '1,000',\n",
       "       'SN', '31-23', '295', '21-23', '84', '74', '101', '2 - 4', '15-17',\n",
       "       '46,800', '3,600', '0,700', '22,2', '2,500', '15,500', '19,500',\n",
       "       '7,100', '165', '97', '19-21', '149', '158', '99', '184', '72',\n",
       "       '160', '70', '203', '125', '156', '176', '100', '135', '134',\n",
       "       '140', '88', '122', '89', '118', '171', '114', '293', 's/n', '93',\n",
       "       '3-5', '86', '3 dupl', '136', '123', '124', '166', '257', '106',\n",
       "       '126', '141', '7/9', '121', '103', '132', '107', '85', '200',\n",
       "       '155', '148', '205', '138', '116', '380', '218', '7-9', '8 DUP',\n",
       "       '9 BIS', '178', '196', '146', '181', '3 DUPL', '53-55', '4 BIS',\n",
       "       '153', '130', '362', '119', '243', '875', '28 BIS', '3 D', '336',\n",
       "       '13 BIS', '19 BIS', '185', '164', '108', '469', '385', '2-4',\n",
       "       '255', '479', '214', '258', '342', '434', '201', '8 BIS', '345',\n",
       "       '296', '300', '144', '194', '280', '169', '129', '13-11', '204',\n",
       "       '192', '150', '874', '202', '2B', '32-36', '816', '172', '1-9',\n",
       "       '02', '9-10', '5B', '333', '190', '16 D', '22,5', '31-33', '1 D',\n",
       "       'KM9', '270', '69-72', '18700', '142', '137', '7,8', '162', '1 A',\n",
       "       '06', '349', '770', '764', '389', '5D', '58 BIS', '67A', '177B',\n",
       "       '206', '9 Y 11', '251', '7,5', '489', '215', '247', '10 B', '988',\n",
       "       '238', '920', '224', '217 I', '7 BIS', '252', '378', '246', '175',\n",
       "       '222', '240', '10-11', '12,500', '1-3', '39-41', '269', '6 - 9',\n",
       "       '305', 'sn', '94-B', '423', '13B', 'II', '225', '94B', '118-12',\n",
       "       '9,500', '66b', '40FR', '7 Y 9', '5 Y 7', '28-30', '38D', '461',\n",
       "       '43A', '686', '183', '230', '94b', '11B', '4B', '997B', '241',\n",
       "       '18-D', '268', '2A', '8A', '91-101', '7B', '3-5-7', 'Km 4,1',\n",
       "       '297'], dtype=object)"
      ]
     },
     "execution_count": 69,
     "metadata": {},
     "output_type": "execute_result"
    }
   ],
   "source": [
    "df_alojamientos['numero'].unique()"
   ]
  },
  {
   "cell_type": "code",
   "execution_count": 70,
   "id": "17d845bb-d07e-4c79-9a52-0e82f66ebe1f",
   "metadata": {},
   "outputs": [],
   "source": [
    "df_alojamientos[\"numero\"] = df_alojamientos[\"numero\"].str.upper().str.strip()"
   ]
  },
  {
   "cell_type": "code",
   "execution_count": 71,
   "id": "03ac26c7-f767-444f-a61d-422ec384c626",
   "metadata": {},
   "outputs": [],
   "source": [
    "df_alojamientos[\"numero\"] = df_alojamientos[\"numero\"].replace({\n",
    "    \"S/Nº\": \"S/N\",\n",
    "    \"S/N.\": \"S/N\",\n",
    "    \"S N\": \"S/N\",\n",
    "    \"S. N.\": \"S/N\",\n",
    "    \"SN\": \"S/N\"\n",
    "})"
   ]
  },
  {
   "cell_type": "code",
   "execution_count": 72,
   "id": "82463800-c719-46c8-a56f-89ac846f23d5",
   "metadata": {},
   "outputs": [
    {
     "name": "stdout",
     "output_type": "stream",
     "text": [
      "['92,500' '14,200' '25,600' '25,00' '12,700' '4 Y 6' '34-36' '4-6' '87,8'\n",
      " '36,800' 'S/N' '16,200' '7,300' '3,500' '52,5' '20,60' '0,15' '5,500'\n",
      " '81,400' '62,500' '1,375' '0,200' '20,700' '4-5' '68,000' '1,800' '8-10'\n",
      " '52-54' '28,2' nan '10-12' '35,600' '16A' '1,5' '9,200' '7,700' '7,800'\n",
      " '10,200' '51,500' '50,500' '1-3-5' '14-16' '30,500' '19,200' '1,600'\n",
      " '1,000' '31-23' '21-23' '2 - 4' '15-17' '46,800' '3,600' '0,700' '22,2'\n",
      " '2,500' '15,500' '19,500' '7,100' '19-21' '3-5' '3 DUPL' '7/9' '7-9'\n",
      " '8 DUP' '9 BIS' '53-55' '4 BIS' '28 BIS' '3 D' '13 BIS' '19 BIS' '2-4'\n",
      " '8 BIS' '13-11' '2B' '32-36' '1-9' '9-10' '5B' '16 D' '22,5' '31-33'\n",
      " '1 D' 'KM9' '69-72' '7,8' '1 A' '5D' '58 BIS' '67A' '177B' '9 Y 11' '7,5'\n",
      " '10 B' '217 I' '7 BIS' '10-11' '12,500' '1-3' '39-41' '6 - 9' '94-B'\n",
      " '13B' 'II' '94B' '118-12' '9,500' '66B' '40FR' '7 Y 9' '5 Y 7' '28-30'\n",
      " '38D' '43A' '11B' '4B' '997B' '18-D' '2A' '8A' '91-101' '7B' '3-5-7'\n",
      " 'KM 4,1']\n"
     ]
    }
   ],
   "source": [
    "# Intentar convertir a número (se guarda como auxiliar)\n",
    "df_alojamientos[\"numero_num\"] = pd.to_numeric(df_alojamientos[\"numero\"], errors='coerce')\n",
    "\n",
    "# Valores que no se pudieron convertir\n",
    "no_numericos = df_alojamientos[df_alojamientos[\"numero_num\"].isna()][\"numero\"].unique()\n",
    "print(no_numericos)"
   ]
  },
  {
   "cell_type": "code",
   "execution_count": 73,
   "id": "0253db38-f087-40dc-876e-e221325130ee",
   "metadata": {},
   "outputs": [
    {
     "data": {
      "text/html": [
       "<div>\n",
       "<style scoped>\n",
       "    .dataframe tbody tr th:only-of-type {\n",
       "        vertical-align: middle;\n",
       "    }\n",
       "\n",
       "    .dataframe tbody tr th {\n",
       "        vertical-align: top;\n",
       "    }\n",
       "\n",
       "    .dataframe thead th {\n",
       "        text-align: right;\n",
       "    }\n",
       "</style>\n",
       "<table border=\"1\" class=\"dataframe\">\n",
       "  <thead>\n",
       "    <tr style=\"text-align: right;\">\n",
       "      <th></th>\n",
       "      <th>alojamiento_tipo</th>\n",
       "      <th>categoria</th>\n",
       "      <th>denominacion</th>\n",
       "      <th>via_tipo</th>\n",
       "      <th>via_nombre</th>\n",
       "      <th>numero</th>\n",
       "      <th>bloque</th>\n",
       "      <th>portal</th>\n",
       "      <th>escalera</th>\n",
       "      <th>planta</th>\n",
       "      <th>puerta</th>\n",
       "      <th>cdpostal</th>\n",
       "      <th>localidad</th>\n",
       "      <th>signatura</th>\n",
       "      <th>numero_num</th>\n",
       "    </tr>\n",
       "  </thead>\n",
       "  <tbody>\n",
       "    <tr>\n",
       "      <th>0</th>\n",
       "      <td>HOTEL</td>\n",
       "      <td>3-HOTEL</td>\n",
       "      <td>GRAN LEGAZPI</td>\n",
       "      <td>paseo</td>\n",
       "      <td>de la Chopera</td>\n",
       "      <td>71</td>\n",
       "      <td>NaN</td>\n",
       "      <td>NaN</td>\n",
       "      <td>NaN</td>\n",
       "      <td>NaN</td>\n",
       "      <td>NaN</td>\n",
       "      <td>28045.0</td>\n",
       "      <td>Madrid</td>\n",
       "      <td>HM-127</td>\n",
       "      <td>71.0</td>\n",
       "    </tr>\n",
       "    <tr>\n",
       "      <th>1</th>\n",
       "      <td>PENSION</td>\n",
       "      <td>2-PENSION</td>\n",
       "      <td>ISABEL</td>\n",
       "      <td>calle</td>\n",
       "      <td>de la Salud</td>\n",
       "      <td>13</td>\n",
       "      <td>NaN</td>\n",
       "      <td>NaN</td>\n",
       "      <td>NaN</td>\n",
       "      <td>3</td>\n",
       "      <td>NaN</td>\n",
       "      <td>28013.0</td>\n",
       "      <td>Madrid</td>\n",
       "      <td>HM-132</td>\n",
       "      <td>13.0</td>\n",
       "    </tr>\n",
       "    <tr>\n",
       "      <th>2</th>\n",
       "      <td>HOSTAL</td>\n",
       "      <td>2-HOSTAL</td>\n",
       "      <td>BESAYA</td>\n",
       "      <td>calle</td>\n",
       "      <td>de San Bernardo</td>\n",
       "      <td>13</td>\n",
       "      <td>NaN</td>\n",
       "      <td>NaN</td>\n",
       "      <td>NaN</td>\n",
       "      <td>8</td>\n",
       "      <td>NaN</td>\n",
       "      <td>28015.0</td>\n",
       "      <td>Madrid</td>\n",
       "      <td>HM-139</td>\n",
       "      <td>13.0</td>\n",
       "    </tr>\n",
       "    <tr>\n",
       "      <th>3</th>\n",
       "      <td>HOSTAL</td>\n",
       "      <td>3-HOSTAL</td>\n",
       "      <td>ASTORIA II</td>\n",
       "      <td>cra</td>\n",
       "      <td>de San Jerónimo</td>\n",
       "      <td>32</td>\n",
       "      <td>NaN</td>\n",
       "      <td>NaN</td>\n",
       "      <td>NaN</td>\n",
       "      <td>4º</td>\n",
       "      <td>D</td>\n",
       "      <td>28014.0</td>\n",
       "      <td>Madrid</td>\n",
       "      <td>HM-142</td>\n",
       "      <td>32.0</td>\n",
       "    </tr>\n",
       "    <tr>\n",
       "      <th>4</th>\n",
       "      <td>HOSTAL</td>\n",
       "      <td>3-HOSTAL</td>\n",
       "      <td>ALHAMBRA</td>\n",
       "      <td>calle</td>\n",
       "      <td>de Espoz y Mina</td>\n",
       "      <td>6</td>\n",
       "      <td>NaN</td>\n",
       "      <td>NaN</td>\n",
       "      <td>NaN</td>\n",
       "      <td>2</td>\n",
       "      <td>2</td>\n",
       "      <td>28012.0</td>\n",
       "      <td>Madrid</td>\n",
       "      <td>HM-143</td>\n",
       "      <td>6.0</td>\n",
       "    </tr>\n",
       "    <tr>\n",
       "      <th>...</th>\n",
       "      <td>...</td>\n",
       "      <td>...</td>\n",
       "      <td>...</td>\n",
       "      <td>...</td>\n",
       "      <td>...</td>\n",
       "      <td>...</td>\n",
       "      <td>...</td>\n",
       "      <td>...</td>\n",
       "      <td>...</td>\n",
       "      <td>...</td>\n",
       "      <td>...</td>\n",
       "      <td>...</td>\n",
       "      <td>...</td>\n",
       "      <td>...</td>\n",
       "      <td>...</td>\n",
       "    </tr>\n",
       "    <tr>\n",
       "      <th>12988</th>\n",
       "      <td>CASA HUESPEDES</td>\n",
       "      <td>CASA HUESPEDES</td>\n",
       "      <td>PARADISE SUITES MADRID</td>\n",
       "      <td>ctra</td>\n",
       "      <td>CANILLAS</td>\n",
       "      <td>15</td>\n",
       "      <td>NaN</td>\n",
       "      <td>NaN</td>\n",
       "      <td>NaN</td>\n",
       "      <td>NaN</td>\n",
       "      <td>NaN</td>\n",
       "      <td>28043.0</td>\n",
       "      <td>Madrid</td>\n",
       "      <td>HM-5090</td>\n",
       "      <td>15.0</td>\n",
       "    </tr>\n",
       "    <tr>\n",
       "      <th>12989</th>\n",
       "      <td>VIVIENDAS DE USO TU</td>\n",
       "      <td>SIN CATEGORIA</td>\n",
       "      <td>NaN</td>\n",
       "      <td>calle</td>\n",
       "      <td>Floridablanca</td>\n",
       "      <td>44</td>\n",
       "      <td>NaN</td>\n",
       "      <td>NaN</td>\n",
       "      <td>NaN</td>\n",
       "      <td>3</td>\n",
       "      <td>NaN</td>\n",
       "      <td>28200.0</td>\n",
       "      <td>San Lorenzo De El Escorial</td>\n",
       "      <td>VT-14745</td>\n",
       "      <td>44.0</td>\n",
       "    </tr>\n",
       "    <tr>\n",
       "      <th>12990</th>\n",
       "      <td>VIVIENDAS DE USO TU</td>\n",
       "      <td>SIN CATEGORIA</td>\n",
       "      <td>NaN</td>\n",
       "      <td>calle</td>\n",
       "      <td>Carmen Calzado</td>\n",
       "      <td>11</td>\n",
       "      <td>NaN</td>\n",
       "      <td>NaN</td>\n",
       "      <td>NaN</td>\n",
       "      <td>Bajo</td>\n",
       "      <td>A</td>\n",
       "      <td>28806.0</td>\n",
       "      <td>Alcalá De Henares</td>\n",
       "      <td>VT-14788</td>\n",
       "      <td>11.0</td>\n",
       "    </tr>\n",
       "    <tr>\n",
       "      <th>12991</th>\n",
       "      <td>VIVIENDAS DE USO TU</td>\n",
       "      <td>SIN CATEGORIA</td>\n",
       "      <td>NaN</td>\n",
       "      <td>calle</td>\n",
       "      <td>Carmen Calzado</td>\n",
       "      <td>11</td>\n",
       "      <td>NaN</td>\n",
       "      <td>NaN</td>\n",
       "      <td>1</td>\n",
       "      <td>1</td>\n",
       "      <td>A</td>\n",
       "      <td>28801.0</td>\n",
       "      <td>Alcalá De Henares</td>\n",
       "      <td>VT-14789</td>\n",
       "      <td>11.0</td>\n",
       "    </tr>\n",
       "    <tr>\n",
       "      <th>12992</th>\n",
       "      <td>VIVIENDAS DE USO TU</td>\n",
       "      <td>SIN CATEGORIA</td>\n",
       "      <td>NaN</td>\n",
       "      <td>calle</td>\n",
       "      <td>Henares</td>\n",
       "      <td>1</td>\n",
       "      <td>NaN</td>\n",
       "      <td>5</td>\n",
       "      <td>9</td>\n",
       "      <td>1</td>\n",
       "      <td>A</td>\n",
       "      <td>28816.0</td>\n",
       "      <td>Camarma De Esteruelas</td>\n",
       "      <td>VT-14991</td>\n",
       "      <td>1.0</td>\n",
       "    </tr>\n",
       "  </tbody>\n",
       "</table>\n",
       "<p>12774 rows × 15 columns</p>\n",
       "</div>"
      ],
      "text/plain": [
       "          alojamiento_tipo       categoria            denominacion via_tipo  \\\n",
       "0                    HOTEL         3-HOTEL            GRAN LEGAZPI    paseo   \n",
       "1                  PENSION       2-PENSION                  ISABEL    calle   \n",
       "2                   HOSTAL        2-HOSTAL                  BESAYA    calle   \n",
       "3                   HOSTAL        3-HOSTAL              ASTORIA II      cra   \n",
       "4                   HOSTAL        3-HOSTAL                ALHAMBRA    calle   \n",
       "...                    ...             ...                     ...      ...   \n",
       "12988       CASA HUESPEDES  CASA HUESPEDES  PARADISE SUITES MADRID     ctra   \n",
       "12989  VIVIENDAS DE USO TU   SIN CATEGORIA                     NaN    calle   \n",
       "12990  VIVIENDAS DE USO TU   SIN CATEGORIA                     NaN    calle   \n",
       "12991  VIVIENDAS DE USO TU   SIN CATEGORIA                     NaN    calle   \n",
       "12992  VIVIENDAS DE USO TU   SIN CATEGORIA                     NaN    calle   \n",
       "\n",
       "            via_nombre numero bloque portal escalera planta puerta  cdpostal  \\\n",
       "0        de la Chopera     71    NaN    NaN      NaN    NaN    NaN   28045.0   \n",
       "1          de la Salud     13    NaN    NaN      NaN      3    NaN   28013.0   \n",
       "2      de San Bernardo     13    NaN    NaN      NaN      8    NaN   28015.0   \n",
       "3      de San Jerónimo     32    NaN    NaN      NaN     4º      D   28014.0   \n",
       "4      de Espoz y Mina      6    NaN    NaN      NaN      2      2   28012.0   \n",
       "...                ...    ...    ...    ...      ...    ...    ...       ...   \n",
       "12988         CANILLAS     15    NaN    NaN      NaN    NaN    NaN   28043.0   \n",
       "12989    Floridablanca     44    NaN    NaN      NaN      3    NaN   28200.0   \n",
       "12990   Carmen Calzado     11    NaN    NaN      NaN   Bajo      A   28806.0   \n",
       "12991   Carmen Calzado     11    NaN    NaN        1      1      A   28801.0   \n",
       "12992          Henares      1    NaN      5        9      1      A   28816.0   \n",
       "\n",
       "                        localidad signatura  numero_num  \n",
       "0                          Madrid    HM-127        71.0  \n",
       "1                          Madrid    HM-132        13.0  \n",
       "2                          Madrid    HM-139        13.0  \n",
       "3                          Madrid    HM-142        32.0  \n",
       "4                          Madrid    HM-143         6.0  \n",
       "...                           ...       ...         ...  \n",
       "12988                      Madrid   HM-5090        15.0  \n",
       "12989  San Lorenzo De El Escorial  VT-14745        44.0  \n",
       "12990           Alcalá De Henares  VT-14788        11.0  \n",
       "12991           Alcalá De Henares  VT-14789        11.0  \n",
       "12992       Camarma De Esteruelas  VT-14991         1.0  \n",
       "\n",
       "[12774 rows x 15 columns]"
      ]
     },
     "execution_count": 73,
     "metadata": {},
     "output_type": "execute_result"
    }
   ],
   "source": [
    "df_alojamientos.loc[~df_alojamientos[\"numero\"].isin(no_numericos) | (df_alojamientos[\"numero\"] == \"S/N\")]"
   ]
  },
  {
   "cell_type": "code",
   "execution_count": 74,
   "id": "6399a20f-83f7-4745-94aa-12a7a95a9398",
   "metadata": {},
   "outputs": [],
   "source": [
    "df_alojamientos.drop(columns=\"numero_num\", inplace=True)"
   ]
  },
  {
   "cell_type": "code",
   "execution_count": 88,
   "id": "a9e75ad3-f196-43a1-a6c4-ac3a4bbdc450",
   "metadata": {},
   "outputs": [],
   "source": [
    "df_alojamientos.to_csv(\"alojamientos_turisticos_limpio.csv\", index=False, encoding=\"utf-8\")"
   ]
  },
  {
   "cell_type": "code",
   "execution_count": 76,
   "id": "b3b6c0b5-8723-4785-bc30-520e06f527dc",
   "metadata": {},
   "outputs": [
    {
     "data": {
      "text/plain": [
       "(10051, 12)"
      ]
     },
     "execution_count": 76,
     "metadata": {},
     "output_type": "execute_result"
    }
   ],
   "source": [
    "# Cargar el otro Dataset\n",
    "df_data.shape"
   ]
  },
  {
   "cell_type": "code",
   "execution_count": 77,
   "id": "26588758-fd72-48f2-b7a8-6b9086edefb2",
   "metadata": {},
   "outputs": [
    {
     "data": {
      "text/plain": [
       "Range                    1.000000\n",
       "City                     0.031937\n",
       "State                    0.000298\n",
       "CrimeId                  0.000000\n",
       "OriginalCrimeTypeName    0.000000\n",
       "OffenseDate              0.000000\n",
       "CallTime                 0.000000\n",
       "CallDateTime             0.000000\n",
       "Disposition              0.000000\n",
       "Address                  0.000000\n",
       "AgencyId                 0.000000\n",
       "AddressType              0.000000\n",
       "dtype: float64"
      ]
     },
     "execution_count": 77,
     "metadata": {},
     "output_type": "execute_result"
    }
   ],
   "source": [
    "df_data.isnull().mean().sort_values(ascending=False)"
   ]
  },
  {
   "cell_type": "code",
   "execution_count": 80,
   "id": "a409624b-2142-4b80-9330-37226a43d452",
   "metadata": {},
   "outputs": [],
   "source": [
    "df_data = df_data.drop(columns=[\"Range\"])"
   ]
  },
  {
   "cell_type": "code",
   "execution_count": 84,
   "id": "c9beb5d4-5aac-47e5-b8ee-9ae1cf5cf223",
   "metadata": {},
   "outputs": [],
   "source": [
    "df_data[\"OffenseDate_parsed\"] = pd.to_datetime(df_data[\"OffenseDate\"], errors=\"coerce\")"
   ]
  },
  {
   "cell_type": "code",
   "execution_count": 85,
   "id": "a1735d8f-ed3a-4705-ac8f-63cff7a9783e",
   "metadata": {},
   "outputs": [],
   "source": [
    "df_data[\"CallDateTime_parsed\"] = pd.to_datetime(df_data[\"CallDateTime\"], errors=\"coerce\")"
   ]
  },
  {
   "cell_type": "code",
   "execution_count": 86,
   "id": "b926fe43-1f4f-446d-a8d8-66e15996ced4",
   "metadata": {},
   "outputs": [
    {
     "name": "stdout",
     "output_type": "stream",
     "text": [
      "1\n"
     ]
    }
   ],
   "source": [
    "incoherentes = df_data[\n",
    "    df_data['OffenseDate_parsed'] > df_data['CallDateTime_parsed']\n",
    "]\n",
    "\n",
    "print(len(incoherentes))"
   ]
  },
  {
   "cell_type": "code",
   "execution_count": 87,
   "id": "5f1855e1-1580-4c74-be7e-5d0f6dd7e71f",
   "metadata": {},
   "outputs": [],
   "source": [
    "df_data = df_data[df_data['OffenseDate_parsed'] <= df_data['CallDateTime_parsed']]"
   ]
  },
  {
   "cell_type": "code",
   "execution_count": 89,
   "id": "289c643c-e7f3-4a33-8584-b28de2e34c81",
   "metadata": {},
   "outputs": [],
   "source": [
    "df_data.to_csv(\"data_act_01_limpio.csv\", index=False, encoding=\"utf-8\")"
   ]
  },
  {
   "cell_type": "code",
   "execution_count": 90,
   "id": "edc0ab9a-dc35-4e5f-8d97-021740b1b6a0",
   "metadata": {},
   "outputs": [],
   "source": [
    "import pandas as pd\n",
    "import json"
   ]
  },
  {
   "cell_type": "code",
   "execution_count": 91,
   "id": "a09432cd-9fb4-4f7f-8e30-c8335fcf851a",
   "metadata": {},
   "outputs": [],
   "source": [
    "# 1. Cargar los 3 archivos limpios\n",
    "df_museos = pd.read_csv(\"museos_limpio.csv\", encoding=\"utf-8\")\n",
    "df_alojamientos = pd.read_csv(\"alojamientos_turisticos_limpio.csv\", encoding=\"utf-8\")\n",
    "df_incidentes = pd.read_csv(\"data_act_01_limpio.csv\", encoding=\"utf-8\")"
   ]
  },
  {
   "cell_type": "code",
   "execution_count": 92,
   "id": "fe47bea2-c0b1-42ab-bdec-18e49cd348a8",
   "metadata": {},
   "outputs": [],
   "source": [
    "# 2. Convertirlos a listas de registros (uno por fila)\n",
    "json_unificado = {\n",
    "    \"museos\": df_museos.to_dict(orient=\"records\"),\n",
    "    \"alojamientos\": df_alojamientos.to_dict(orient=\"records\"),\n",
    "    \"incidentes\": df_incidentes.to_dict(orient=\"records\")\n",
    "}"
   ]
  },
  {
   "cell_type": "code",
   "execution_count": 93,
   "id": "cfb022e2-8685-4f19-9d57-51bf20654be7",
   "metadata": {},
   "outputs": [],
   "source": [
    "# 3. Guardar en un solo archivo JSON\n",
    "with open(\"RIOS_BENJUMEA_SANTIAGO_actividad_1.json\", \"w\", encoding=\"utf-8\") as f:\n",
    "    json.dump(json_unificado, f, ensure_ascii=False, indent=2)"
   ]
  }
 ],
 "metadata": {
  "kernelspec": {
   "display_name": "Python 3 (ipykernel)",
   "language": "python",
   "name": "python3"
  },
  "language_info": {
   "codemirror_mode": {
    "name": "ipython",
    "version": 3
   },
   "file_extension": ".py",
   "mimetype": "text/x-python",
   "name": "python",
   "nbconvert_exporter": "python",
   "pygments_lexer": "ipython3",
   "version": "3.9.21"
  }
 },
 "nbformat": 4,
 "nbformat_minor": 5
}
